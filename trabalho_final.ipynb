{
  "nbformat": 4,
  "nbformat_minor": 0,
  "metadata": {
    "colab": {
      "name": "trabalho.ipynb",
      "provenance": [],
      "collapsed_sections": [
        "7Tg5xquvTfvP",
        "ttJMUNIobFLL",
        "c1EYhzU84gAp",
        "yC7U5ckp4_Gg"
      ]
    },
    "kernelspec": {
      "name": "python3",
      "display_name": "Python 3"
    }
  },
  "cells": [
    {
      "cell_type": "markdown",
      "metadata": {
        "id": "7Tg5xquvTfvP"
      },
      "source": [
        "# **Preparação do Ambiente**"
      ]
    },
    {
      "cell_type": "markdown",
      "metadata": {
        "id": "i3KThyhmdjvU"
      },
      "source": [
        "**Instalação de Pacotes**"
      ]
    },
    {
      "cell_type": "code",
      "metadata": {
        "id": "sCk31eLQdq1n",
        "colab": {
          "base_uri": "https://localhost:8080/"
        },
        "outputId": "ee0946f0-be56-4310-8fa8-7b5497afc8fd"
      },
      "source": [
        "!python -m textblob.download_corpora"
      ],
      "execution_count": null,
      "outputs": [
        {
          "output_type": "stream",
          "text": [
            "[nltk_data] Downloading package brown to /root/nltk_data...\n",
            "[nltk_data]   Unzipping corpora/brown.zip.\n",
            "[nltk_data] Downloading package punkt to /root/nltk_data...\n",
            "[nltk_data]   Unzipping tokenizers/punkt.zip.\n",
            "[nltk_data] Downloading package wordnet to /root/nltk_data...\n",
            "[nltk_data]   Unzipping corpora/wordnet.zip.\n",
            "[nltk_data] Downloading package averaged_perceptron_tagger to\n",
            "[nltk_data]     /root/nltk_data...\n",
            "[nltk_data]   Unzipping taggers/averaged_perceptron_tagger.zip.\n",
            "[nltk_data] Downloading package conll2000 to /root/nltk_data...\n",
            "[nltk_data]   Unzipping corpora/conll2000.zip.\n",
            "[nltk_data] Downloading package movie_reviews to /root/nltk_data...\n",
            "[nltk_data]   Unzipping corpora/movie_reviews.zip.\n",
            "Finished.\n"
          ],
          "name": "stdout"
        }
      ]
    },
    {
      "cell_type": "code",
      "metadata": {
        "id": "I7NoU7Ov0i2y",
        "colab": {
          "base_uri": "https://localhost:8080/"
        },
        "outputId": "08bb8238-b3c7-4df7-d468-10e3652b2d41"
      },
      "source": [
        "!pip install googletrans==3.0.0"
      ],
      "execution_count": null,
      "outputs": [
        {
          "output_type": "stream",
          "text": [
            "Collecting googletrans==3.0.0\n",
            "  Downloading https://files.pythonhosted.org/packages/71/3a/3b19effdd4c03958b90f40fe01c93de6d5280e03843cc5adf6956bfc9512/googletrans-3.0.0.tar.gz\n",
            "Collecting httpx==0.13.3\n",
            "\u001b[?25l  Downloading https://files.pythonhosted.org/packages/54/b4/698b284c6aed4d7c2b4fe3ba5df1fcf6093612423797e76fbb24890dd22f/httpx-0.13.3-py3-none-any.whl (55kB)\n",
            "\u001b[K     |████████████████████████████████| 61kB 3.5MB/s \n",
            "\u001b[?25hCollecting rfc3986<2,>=1.3\n",
            "  Downloading https://files.pythonhosted.org/packages/78/be/7b8b99fd74ff5684225f50dd0e865393d2265656ef3b4ba9eaaaffe622b8/rfc3986-1.4.0-py2.py3-none-any.whl\n",
            "Requirement already satisfied: chardet==3.* in /usr/local/lib/python3.6/dist-packages (from httpx==0.13.3->googletrans==3.0.0) (3.0.4)\n",
            "Requirement already satisfied: idna==2.* in /usr/local/lib/python3.6/dist-packages (from httpx==0.13.3->googletrans==3.0.0) (2.10)\n",
            "Collecting httpcore==0.9.*\n",
            "\u001b[?25l  Downloading https://files.pythonhosted.org/packages/dd/d5/e4ff9318693ac6101a2095e580908b591838c6f33df8d3ee8dd953ba96a8/httpcore-0.9.1-py3-none-any.whl (42kB)\n",
            "\u001b[K     |████████████████████████████████| 51kB 5.0MB/s \n",
            "\u001b[?25hCollecting hstspreload\n",
            "\u001b[?25l  Downloading https://files.pythonhosted.org/packages/d3/3c/cdeaf9ab0404853e77c45d9e8021d0d2c01f70a1bb26e460090926fe2a5e/hstspreload-2020.11.21-py3-none-any.whl (981kB)\n",
            "\u001b[K     |████████████████████████████████| 983kB 7.7MB/s \n",
            "\u001b[?25hRequirement already satisfied: certifi in /usr/local/lib/python3.6/dist-packages (from httpx==0.13.3->googletrans==3.0.0) (2020.11.8)\n",
            "Collecting sniffio\n",
            "  Downloading https://files.pythonhosted.org/packages/52/b0/7b2e028b63d092804b6794595871f936aafa5e9322dcaaad50ebf67445b3/sniffio-1.2.0-py3-none-any.whl\n",
            "Collecting h11<0.10,>=0.8\n",
            "\u001b[?25l  Downloading https://files.pythonhosted.org/packages/5a/fd/3dad730b0f95e78aeeb742f96fa7bbecbdd56a58e405d3da440d5bfb90c6/h11-0.9.0-py2.py3-none-any.whl (53kB)\n",
            "\u001b[K     |████████████████████████████████| 61kB 6.2MB/s \n",
            "\u001b[?25hCollecting h2==3.*\n",
            "\u001b[?25l  Downloading https://files.pythonhosted.org/packages/25/de/da019bcc539eeab02f6d45836f23858ac467f584bfec7a526ef200242afe/h2-3.2.0-py2.py3-none-any.whl (65kB)\n",
            "\u001b[K     |████████████████████████████████| 71kB 6.6MB/s \n",
            "\u001b[?25hCollecting contextvars>=2.1; python_version < \"3.7\"\n",
            "  Downloading https://files.pythonhosted.org/packages/83/96/55b82d9f13763be9d672622e1b8106c85acb83edd7cc2fa5bc67cd9877e9/contextvars-2.4.tar.gz\n",
            "Collecting hpack<4,>=3.0\n",
            "  Downloading https://files.pythonhosted.org/packages/8a/cc/e53517f4a1e13f74776ca93271caef378dadec14d71c61c949d759d3db69/hpack-3.0.0-py2.py3-none-any.whl\n",
            "Collecting hyperframe<6,>=5.2.0\n",
            "  Downloading https://files.pythonhosted.org/packages/19/0c/bf88182bcb5dce3094e2f3e4fe20db28a9928cb7bd5b08024030e4b140db/hyperframe-5.2.0-py2.py3-none-any.whl\n",
            "Collecting immutables>=0.9\n",
            "\u001b[?25l  Downloading https://files.pythonhosted.org/packages/99/e0/ea6fd4697120327d26773b5a84853f897a68e33d3f9376b00a8ff96e4f63/immutables-0.14-cp36-cp36m-manylinux1_x86_64.whl (98kB)\n",
            "\u001b[K     |████████████████████████████████| 102kB 6.8MB/s \n",
            "\u001b[?25hBuilding wheels for collected packages: googletrans, contextvars\n",
            "  Building wheel for googletrans (setup.py) ... \u001b[?25l\u001b[?25hdone\n",
            "  Created wheel for googletrans: filename=googletrans-3.0.0-cp36-none-any.whl size=15736 sha256=461973bd32218babd3dd62e658af28cf22843bde0b043a59b31a457b09627407\n",
            "  Stored in directory: /root/.cache/pip/wheels/28/1a/a7/eaf4d7a3417a0c65796c547cff4deb6d79c7d14c2abd29273e\n",
            "  Building wheel for contextvars (setup.py) ... \u001b[?25l\u001b[?25hdone\n",
            "  Created wheel for contextvars: filename=contextvars-2.4-cp36-none-any.whl size=7666 sha256=6d2f8a00291a2d437c908ef58ff26b1cf48d8251bbad30ea570ed6f29a72b905\n",
            "  Stored in directory: /root/.cache/pip/wheels/a5/7d/68/1ebae2668bda2228686e3c1cf16f2c2384cea6e9334ad5f6de\n",
            "Successfully built googletrans contextvars\n",
            "Installing collected packages: rfc3986, immutables, contextvars, sniffio, h11, hpack, hyperframe, h2, httpcore, hstspreload, httpx, googletrans\n",
            "Successfully installed contextvars-2.4 googletrans-3.0.0 h11-0.9.0 h2-3.2.0 hpack-3.0.0 hstspreload-2020.11.21 httpcore-0.9.1 httpx-0.13.3 hyperframe-5.2.0 immutables-0.14 rfc3986-1.4.0 sniffio-1.2.0\n"
          ],
          "name": "stdout"
        }
      ]
    },
    {
      "cell_type": "code",
      "metadata": {
        "colab": {
          "base_uri": "https://localhost:8080/"
        },
        "id": "A78b1ijIUIxH",
        "outputId": "d9163dfb-4c79-4ac7-b3bf-57695152a7c1"
      },
      "source": [
        "!pip install geopandas"
      ],
      "execution_count": null,
      "outputs": [
        {
          "output_type": "stream",
          "text": [
            "Collecting geopandas\n",
            "\u001b[?25l  Downloading https://files.pythonhosted.org/packages/f7/a4/e66aafbefcbb717813bf3a355c8c4fc3ed04ea1dd7feb2920f2f4f868921/geopandas-0.8.1-py2.py3-none-any.whl (962kB)\n",
            "\u001b[K     |████████████████████████████████| 972kB 5.3MB/s \n",
            "\u001b[?25hRequirement already satisfied: pandas>=0.23.0 in /usr/local/lib/python3.6/dist-packages (from geopandas) (1.1.4)\n",
            "Requirement already satisfied: shapely in /usr/local/lib/python3.6/dist-packages (from geopandas) (1.7.1)\n",
            "Collecting pyproj>=2.2.0\n",
            "\u001b[?25l  Downloading https://files.pythonhosted.org/packages/e4/ab/280e80a67cfc109d15428c0ec56391fc03a65857b7727cf4e6e6f99a4204/pyproj-3.0.0.post1-cp36-cp36m-manylinux2010_x86_64.whl (6.4MB)\n",
            "\u001b[K     |████████████████████████████████| 6.5MB 16.2MB/s \n",
            "\u001b[?25hCollecting fiona\n",
            "\u001b[?25l  Downloading https://files.pythonhosted.org/packages/37/94/4910fd55246c1d963727b03885ead6ef1cd3748a465f7b0239ab25dfc9a3/Fiona-1.8.18-cp36-cp36m-manylinux1_x86_64.whl (14.8MB)\n",
            "\u001b[K     |████████████████████████████████| 14.8MB 313kB/s \n",
            "\u001b[?25hRequirement already satisfied: python-dateutil>=2.7.3 in /usr/local/lib/python3.6/dist-packages (from pandas>=0.23.0->geopandas) (2.8.1)\n",
            "Requirement already satisfied: pytz>=2017.2 in /usr/local/lib/python3.6/dist-packages (from pandas>=0.23.0->geopandas) (2018.9)\n",
            "Requirement already satisfied: numpy>=1.15.4 in /usr/local/lib/python3.6/dist-packages (from pandas>=0.23.0->geopandas) (1.18.5)\n",
            "Requirement already satisfied: certifi in /usr/local/lib/python3.6/dist-packages (from pyproj>=2.2.0->geopandas) (2020.11.8)\n",
            "Requirement already satisfied: attrs>=17 in /usr/local/lib/python3.6/dist-packages (from fiona->geopandas) (20.3.0)\n",
            "Requirement already satisfied: click<8,>=4.0 in /usr/local/lib/python3.6/dist-packages (from fiona->geopandas) (7.1.2)\n",
            "Requirement already satisfied: six>=1.7 in /usr/local/lib/python3.6/dist-packages (from fiona->geopandas) (1.15.0)\n",
            "Collecting click-plugins>=1.0\n",
            "  Downloading https://files.pythonhosted.org/packages/e9/da/824b92d9942f4e472702488857914bdd50f73021efea15b4cad9aca8ecef/click_plugins-1.1.1-py2.py3-none-any.whl\n",
            "Collecting munch\n",
            "  Downloading https://files.pythonhosted.org/packages/cc/ab/85d8da5c9a45e072301beb37ad7f833cd344e04c817d97e0cc75681d248f/munch-2.5.0-py2.py3-none-any.whl\n",
            "Collecting cligj>=0.5\n",
            "  Downloading https://files.pythonhosted.org/packages/42/1e/947eadf10d6804bf276eb8a038bd5307996dceaaa41cfd21b7a15ec62f5d/cligj-0.7.1-py3-none-any.whl\n",
            "Installing collected packages: pyproj, click-plugins, munch, cligj, fiona, geopandas\n",
            "Successfully installed click-plugins-1.1.1 cligj-0.7.1 fiona-1.8.18 geopandas-0.8.1 munch-2.5.0 pyproj-3.0.0.post1\n"
          ],
          "name": "stdout"
        }
      ]
    },
    {
      "cell_type": "markdown",
      "metadata": {
        "id": "kHEgcdPaTL-z"
      },
      "source": [
        "**Imports**"
      ]
    },
    {
      "cell_type": "code",
      "metadata": {
        "id": "SP_Z03beTKok"
      },
      "source": [
        "from textblob import TextBlob\n",
        "from random import randrange\n",
        "from google.colab import files\n",
        "import io\n",
        "import pandas as pd\n",
        "import time\n",
        "from googletrans import Translator\n",
        "from datetime import datetime\n",
        "from geopy.geocoders import Nominatim\n",
        "from geopy.extra.rate_limiter import RateLimiter\n",
        "import geopandas\n",
        "import matplotlib.pyplot as plt"
      ],
      "execution_count": null,
      "outputs": []
    },
    {
      "cell_type": "markdown",
      "metadata": {
        "id": "ttJMUNIobFLL"
      },
      "source": [
        "# **2.2 - Base de Dados**\n"
      ]
    },
    {
      "cell_type": "markdown",
      "metadata": {
        "id": "uCOt1-deYNOI"
      },
      "source": [
        "Esta base de dados contém 100.000 comentários coletados do site TripAdvisor. Cada linha do arquivo contém um comentário e outros dados."
      ]
    },
    {
      "cell_type": "markdown",
      "metadata": {
        "id": "c1EYhzU84gAp"
      },
      "source": [
        "\n",
        "\n",
        "> # 2.2.1 Base de Dados (*Body Review* em português)\n",
        "\n"
      ]
    },
    {
      "cell_type": "code",
      "metadata": {
        "id": "3RhnjEAEbsxR"
      },
      "source": [
        "portuguese_dataset = pd.read_json(\"http://tiagodemelo.info/datasets/dataset-v2.dat\",lines=True)"
      ],
      "execution_count": null,
      "outputs": []
    },
    {
      "cell_type": "code",
      "metadata": {
        "id": "e2PN13nE50Lt"
      },
      "source": [
        "TAM_DATASET = len(portuguese_dataset)"
      ],
      "execution_count": null,
      "outputs": []
    },
    {
      "cell_type": "markdown",
      "metadata": {
        "id": "yC7U5ckp4_Gg"
      },
      "source": [
        "> # 2.2.2 Base de Dados (*Body Review* em inglês)\n",
        "\n"
      ]
    },
    {
      "cell_type": "code",
      "metadata": {
        "id": "My0J_Ffy5PA-"
      },
      "source": [
        "dataset_traduzido = dataset.iloc[0:TAM_DATASET,:]\n",
        "numero_aleatorio = 0;\n",
        "i = 0\n",
        "lista = []\n",
        "while (i<TAM_DATASET):\n",
        "  qtdeCaracteres = 0\n",
        "  textoReviews = \"\"\n",
        "  while (qtdeCaracteres < 200000):\n",
        "    reviewText = str(dataset['reviewBody'][i])\n",
        "    texto_data_set_sem_enter = reviewText.replace(\"\\n\",\" \")\n",
        "    textoReviews = textoReviews +  texto_data_set_sem_enter + \"\\n\"\n",
        "    qtdeCaracteres = qtdeCaracteres + len(textoReviews)\n",
        "    i = i + 1\n",
        "\n",
        "  comentario_blob = TextBlob(textoReviews)  \n",
        "    \n",
        "  try:\n",
        "    comentario_blob_us = str(comentario_blob.translate(to='us'))\n",
        "  except:\n",
        "    comentario_blob_us = str(comentario_blob)\n",
        "    print(\"Erro na linha: \",i)\n",
        "  \n",
        "  numero_aleatorio = randrange(1,4)  \n",
        "  time.sleep(numero_aleatorio)\n",
        "  \n",
        "  lista.extend(comentario_blob_us.split(\"\\n\"))\n",
        "\n",
        "print(\"Tamanho lista: \", len(lista))\n",
        "\n",
        "for i in range(len(dataset_traduzido)):\n",
        "  dataset_traduzido['reviewBody'][i] = lista[i]\n",
        "\n",
        "arquivo = open(\"english_dataset.csv\", \"a\")\n",
        "dataset_traduzido.to_csv(\"english_dataset.csv\")\n",
        "arquivo.close()\n",
        "files.download('english_dataset.csv')"
      ],
      "execution_count": null,
      "outputs": []
    },
    {
      "cell_type": "code",
      "metadata": {
        "colab": {
          "resources": {
            "http://localhost:8080/nbextensions/google.colab/files.js": {
              "data": "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",
              "ok": true,
              "headers": [
                [
                  "content-type",
                  "application/javascript"
                ]
              ],
              "status": 200,
              "status_text": ""
            }
          },
          "base_uri": "https://localhost:8080/",
          "height": 72
        },
        "id": "J5bVm7M2r6oA",
        "outputId": "0cfdb3e5-1c1d-4d15-8159-60feeeac33b7"
      },
      "source": [
        "uploaded_english_dataset = files.upload()"
      ],
      "execution_count": null,
      "outputs": [
        {
          "output_type": "display_data",
          "data": {
            "text/html": [
              "\n",
              "     <input type=\"file\" id=\"files-8cc90121-6636-4ca7-a2ae-9912f991e215\" name=\"files[]\" multiple disabled\n",
              "        style=\"border:none\" />\n",
              "     <output id=\"result-8cc90121-6636-4ca7-a2ae-9912f991e215\">\n",
              "      Upload widget is only available when the cell has been executed in the\n",
              "      current browser session. Please rerun this cell to enable.\n",
              "      </output>\n",
              "      <script src=\"/nbextensions/google.colab/files.js\"></script> "
            ],
            "text/plain": [
              "<IPython.core.display.HTML object>"
            ]
          },
          "metadata": {
            "tags": []
          }
        },
        {
          "output_type": "stream",
          "text": [
            "Saving english_dataset.csv to english_dataset.csv\n"
          ],
          "name": "stdout"
        }
      ]
    },
    {
      "cell_type": "code",
      "metadata": {
        "id": "61bYfQ_IrhUJ"
      },
      "source": [
        "english_dataset = pd.read_csv(io.BytesIO(uploaded_english_dataset['english_dataset.csv']))"
      ],
      "execution_count": null,
      "outputs": []
    },
    {
      "cell_type": "markdown",
      "metadata": {
        "id": "CxV60eiWeLPz"
      },
      "source": [
        "# **2.3 - Visão Geral dos Dados**"
      ]
    },
    {
      "cell_type": "code",
      "metadata": {
        "id": "-WKB0qaF2IA_",
        "colab": {
          "base_uri": "https://localhost:8080/",
          "height": 564
        },
        "outputId": "cc1bc90b-8419-40c3-88c1-275b6258ec4f"
      },
      "source": [
        "portuguese_dataset.head()"
      ],
      "execution_count": null,
      "outputs": [
        {
          "output_type": "execute_result",
          "data": {
            "text/html": [
              "<div>\n",
              "<style scoped>\n",
              "    .dataframe tbody tr th:only-of-type {\n",
              "        vertical-align: middle;\n",
              "    }\n",
              "\n",
              "    .dataframe tbody tr th {\n",
              "        vertical-align: top;\n",
              "    }\n",
              "\n",
              "    .dataframe thead th {\n",
              "        text-align: right;\n",
              "    }\n",
              "</style>\n",
              "<table border=\"1\" class=\"dataframe\">\n",
              "  <thead>\n",
              "    <tr style=\"text-align: right;\">\n",
              "      <th></th>\n",
              "      <th>title</th>\n",
              "      <th>reviewId</th>\n",
              "      <th>restaurantId</th>\n",
              "      <th>author</th>\n",
              "      <th>reviewBody</th>\n",
              "      <th>language</th>\n",
              "      <th>mobileDevice</th>\n",
              "      <th>userLocation</th>\n",
              "      <th>publicationDate</th>\n",
              "      <th>visitDate</th>\n",
              "      <th>ratingValue</th>\n",
              "      <th>itemReviewed</th>\n",
              "      <th>estado</th>\n",
              "      <th>CEP</th>\n",
              "    </tr>\n",
              "  </thead>\n",
              "  <tbody>\n",
              "    <tr>\n",
              "      <th>0</th>\n",
              "      <td>Jantar</td>\n",
              "      <td>692856288</td>\n",
              "      <td>2344932.0</td>\n",
              "      <td>larinhavercosa222</td>\n",
              "      <td>Comida maravilhosa, lugar do verdadeiro chicle...</td>\n",
              "      <td>pt</td>\n",
              "      <td>True</td>\n",
              "      <td>São Carlos, SP</td>\n",
              "      <td>26/07/2019</td>\n",
              "      <td>07/2019</td>\n",
              "      <td>5</td>\n",
              "      <td>{'name': 'Imperador dos Camarões', 'address': ...</td>\n",
              "      <td>Alagoas</td>\n",
              "      <td>57030-170</td>\n",
              "    </tr>\n",
              "    <tr>\n",
              "      <th>1</th>\n",
              "      <td>Uma boa experiência.</td>\n",
              "      <td>229208487</td>\n",
              "      <td>3720906.0</td>\n",
              "      <td>Pano P</td>\n",
              "      <td>Comida boa, drinks legais e um ambiente bem ac...</td>\n",
              "      <td>pt</td>\n",
              "      <td>True</td>\n",
              "      <td>Manaus, AM</td>\n",
              "      <td>16/09/2014</td>\n",
              "      <td>None</td>\n",
              "      <td>4</td>\n",
              "      <td>{'name': 'Guacamole Natal', 'address': {'stree...</td>\n",
              "      <td>Rio Grande do Norte</td>\n",
              "      <td>59092-100</td>\n",
              "    </tr>\n",
              "    <tr>\n",
              "      <th>2</th>\n",
              "      <td>Otimo self service</td>\n",
              "      <td>679002332</td>\n",
              "      <td>2248105.0</td>\n",
              "      <td>Magma100</td>\n",
              "      <td>Excelente pra ir com a família! Ótima Comida, ...</td>\n",
              "      <td>pt</td>\n",
              "      <td>True</td>\n",
              "      <td>Goiânia, GO</td>\n",
              "      <td>04/06/2019</td>\n",
              "      <td>07/2018</td>\n",
              "      <td>4</td>\n",
              "      <td>{'name': 'Chica Pitanga', 'address': {'streetA...</td>\n",
              "      <td>Pernambuco</td>\n",
              "      <td>51021-250</td>\n",
              "    </tr>\n",
              "    <tr>\n",
              "      <th>3</th>\n",
              "      <td>O sorvete mais tradicional do estado</td>\n",
              "      <td>355671519</td>\n",
              "      <td>8168302.0</td>\n",
              "      <td>Yurie M</td>\n",
              "      <td>Tomo sorvete na Visabor faz mais de 30 anos. S...</td>\n",
              "      <td>pt</td>\n",
              "      <td>False</td>\n",
              "      <td>Aracaju, SE</td>\n",
              "      <td>15/03/2016</td>\n",
              "      <td>01/2016</td>\n",
              "      <td>5</td>\n",
              "      <td>{'name': 'Sorvetes Vi Sabor', 'address': {'str...</td>\n",
              "      <td>Sergipe</td>\n",
              "      <td></td>\n",
              "    </tr>\n",
              "    <tr>\n",
              "      <th>4</th>\n",
              "      <td>Melhor hamburger!</td>\n",
              "      <td>268741921</td>\n",
              "      <td>5395141.0</td>\n",
              "      <td>Debora_C85</td>\n",
              "      <td>O melhor hamburger que já comi! Excelente aten...</td>\n",
              "      <td>pt</td>\n",
              "      <td>False</td>\n",
              "      <td>Rio de Janeiro, RJ</td>\n",
              "      <td>28/04/2015</td>\n",
              "      <td>04/2015</td>\n",
              "      <td>5</td>\n",
              "      <td>{'name': 'Z Deli Sandwich Shop', 'address': {'...</td>\n",
              "      <td>Estado de São Paulo</td>\n",
              "      <td>01414-002</td>\n",
              "    </tr>\n",
              "  </tbody>\n",
              "</table>\n",
              "</div>"
            ],
            "text/plain": [
              "                                  title  ...        CEP\n",
              "0                               Jantar   ...  57030-170\n",
              "1                  Uma boa experiência.  ...  59092-100\n",
              "2                    Otimo self service  ...  51021-250\n",
              "3  O sorvete mais tradicional do estado  ...           \n",
              "4                     Melhor hamburger!  ...  01414-002\n",
              "\n",
              "[5 rows x 14 columns]"
            ]
          },
          "metadata": {
            "tags": []
          },
          "execution_count": 52
        }
      ]
    },
    {
      "cell_type": "code",
      "metadata": {
        "colab": {
          "base_uri": "https://localhost:8080/",
          "height": 581
        },
        "id": "tk-c0GLoEaI9",
        "outputId": "b9713365-d2aa-4509-b445-928c91899174"
      },
      "source": [
        "english_dataset.head()"
      ],
      "execution_count": null,
      "outputs": [
        {
          "output_type": "execute_result",
          "data": {
            "text/html": [
              "<div>\n",
              "<style scoped>\n",
              "    .dataframe tbody tr th:only-of-type {\n",
              "        vertical-align: middle;\n",
              "    }\n",
              "\n",
              "    .dataframe tbody tr th {\n",
              "        vertical-align: top;\n",
              "    }\n",
              "\n",
              "    .dataframe thead th {\n",
              "        text-align: right;\n",
              "    }\n",
              "</style>\n",
              "<table border=\"1\" class=\"dataframe\">\n",
              "  <thead>\n",
              "    <tr style=\"text-align: right;\">\n",
              "      <th></th>\n",
              "      <th>Unnamed: 0</th>\n",
              "      <th>title</th>\n",
              "      <th>reviewId</th>\n",
              "      <th>restaurantId</th>\n",
              "      <th>author</th>\n",
              "      <th>reviewBody</th>\n",
              "      <th>language</th>\n",
              "      <th>mobileDevice</th>\n",
              "      <th>userLocation</th>\n",
              "      <th>publicationDate</th>\n",
              "      <th>visitDate</th>\n",
              "      <th>ratingValue</th>\n",
              "      <th>itemReviewed</th>\n",
              "    </tr>\n",
              "  </thead>\n",
              "  <tbody>\n",
              "    <tr>\n",
              "      <th>0</th>\n",
              "      <td>0</td>\n",
              "      <td>Jantar</td>\n",
              "      <td>692856288</td>\n",
              "      <td>2344932.0</td>\n",
              "      <td>larinhavercosa222</td>\n",
              "      <td>Wonderful food, the place for real shrimp gum....</td>\n",
              "      <td>pt</td>\n",
              "      <td>True</td>\n",
              "      <td>São Carlos, SP</td>\n",
              "      <td>26/07/2019</td>\n",
              "      <td>07/2019</td>\n",
              "      <td>5</td>\n",
              "      <td>{'name': 'Imperador dos Camarões', 'address': ...</td>\n",
              "    </tr>\n",
              "    <tr>\n",
              "      <th>1</th>\n",
              "      <td>1</td>\n",
              "      <td>Uma boa experiência.</td>\n",
              "      <td>229208487</td>\n",
              "      <td>3720906.0</td>\n",
              "      <td>Pano P</td>\n",
              "      <td>Good food, nice drinks and a very cozy atmosph...</td>\n",
              "      <td>pt</td>\n",
              "      <td>True</td>\n",
              "      <td>Manaus, AM</td>\n",
              "      <td>16/09/2014</td>\n",
              "      <td>None</td>\n",
              "      <td>4</td>\n",
              "      <td>{'name': 'Guacamole Natal', 'address': {'stree...</td>\n",
              "    </tr>\n",
              "    <tr>\n",
              "      <th>2</th>\n",
              "      <td>2</td>\n",
              "      <td>Otimo self service</td>\n",
              "      <td>679002332</td>\n",
              "      <td>2248105.0</td>\n",
              "      <td>Magma100</td>\n",
              "      <td>Excellent to go with the family! Great food, p...</td>\n",
              "      <td>pt</td>\n",
              "      <td>True</td>\n",
              "      <td>Goiânia, GO</td>\n",
              "      <td>04/06/2019</td>\n",
              "      <td>07/2018</td>\n",
              "      <td>4</td>\n",
              "      <td>{'name': 'Chica Pitanga', 'address': {'streetA...</td>\n",
              "    </tr>\n",
              "    <tr>\n",
              "      <th>3</th>\n",
              "      <td>3</td>\n",
              "      <td>O sorvete mais tradicional do estado</td>\n",
              "      <td>355671519</td>\n",
              "      <td>8168302.0</td>\n",
              "      <td>Yurie M</td>\n",
              "      <td>I have had ice cream at Visabor for over 30 ye...</td>\n",
              "      <td>pt</td>\n",
              "      <td>False</td>\n",
              "      <td>Aracaju, SE</td>\n",
              "      <td>15/03/2016</td>\n",
              "      <td>01/2016</td>\n",
              "      <td>5</td>\n",
              "      <td>{'name': 'Sorvetes Vi Sabor', 'address': {'str...</td>\n",
              "    </tr>\n",
              "    <tr>\n",
              "      <th>4</th>\n",
              "      <td>4</td>\n",
              "      <td>Melhor hamburger!</td>\n",
              "      <td>268741921</td>\n",
              "      <td>5395141.0</td>\n",
              "      <td>Debora_C85</td>\n",
              "      <td>The best hamburger I've ever eaten! Excellent ...</td>\n",
              "      <td>pt</td>\n",
              "      <td>False</td>\n",
              "      <td>Rio de Janeiro, RJ</td>\n",
              "      <td>28/04/2015</td>\n",
              "      <td>04/2015</td>\n",
              "      <td>5</td>\n",
              "      <td>{'name': 'Z Deli Sandwich Shop', 'address': {'...</td>\n",
              "    </tr>\n",
              "  </tbody>\n",
              "</table>\n",
              "</div>"
            ],
            "text/plain": [
              "   Unnamed: 0  ...                                       itemReviewed\n",
              "0           0  ...  {'name': 'Imperador dos Camarões', 'address': ...\n",
              "1           1  ...  {'name': 'Guacamole Natal', 'address': {'stree...\n",
              "2           2  ...  {'name': 'Chica Pitanga', 'address': {'streetA...\n",
              "3           3  ...  {'name': 'Sorvetes Vi Sabor', 'address': {'str...\n",
              "4           4  ...  {'name': 'Z Deli Sandwich Shop', 'address': {'...\n",
              "\n",
              "[5 rows x 13 columns]"
            ]
          },
          "metadata": {
            "tags": []
          },
          "execution_count": 53
        }
      ]
    },
    {
      "cell_type": "code",
      "metadata": {
        "id": "unUiIOEGeYhl"
      },
      "source": [
        "def series(dataset):\n",
        "  total_de_coments = TAM_DATASET\n",
        "  listaDeQtdeDeSentencaPorComentario = []\n",
        "  listaDeQtdeDePalavrasPorComentario = []\n",
        "  for i in range(total_de_coments):\n",
        "    try:\n",
        "      textoReview = dataset['reviewBody'][i]\n",
        "      comentario_blob = TextBlob(textoReview)\n",
        "      qtde_sentencas_coment = len(comentario_blob.sentences)\n",
        "      qtde_palavras_coment = len(comentario_blob.words)\n",
        "      listaDeQtdeDeSentencaPorComentario.append(qtde_sentencas_coment)\n",
        "      listaDeQtdeDePalavrasPorComentario.append(qtde_palavras_coment)\n",
        "    except:\n",
        "      print('Erro ao ler NaN na linha: ',i)\n",
        "\n",
        "  serieQtdeSentencasPorComentario = pd.Series(listaDeQtdeDeSentencaPorComentario)\n",
        "  serieQtdePalavrasPorComentario = pd.Series(listaDeQtdeDePalavrasPorComentario)\n",
        "\n",
        "  return serieQtdeSentencasPorComentario, serieQtdePalavrasPorComentario\n"
      ],
      "execution_count": null,
      "outputs": []
    },
    {
      "cell_type": "code",
      "metadata": {
        "id": "hbjVR4LXHE7F",
        "colab": {
          "base_uri": "https://localhost:8080/"
        },
        "outputId": "58ae3e30-964a-4b35-935b-3eb8dd07c6b3"
      },
      "source": [
        "series_portuguese = series(portuguese_dataset)\n",
        "series_english = series(english_dataset)"
      ],
      "execution_count": null,
      "outputs": [
        {
          "output_type": "stream",
          "text": [
            "Erro ao ler NaN na linha:  8528\n",
            "Erro ao ler NaN na linha:  8528\n"
          ],
          "name": "stdout"
        }
      ]
    },
    {
      "cell_type": "code",
      "metadata": {
        "id": "uajFPxPBNwKw"
      },
      "source": [
        "estatisticas = {'Idioma':['Português','Inglês'], 'Qtde de comentários': [series_portuguese[0].count(), series_english[0].count() ], \n",
        "        'Qtde de sentenças':[sum(series_portuguese[0]), sum(series_english[0])], \n",
        "        'Nro. Médio de Sentenças por comentários': [series_portuguese[0].mean(), series_english[0].mean()],\n",
        "        'Nro. Médio de palavras por comentários':[series_portuguese[1].mean(), series_english[1].mean()], \n",
        "        'Nro. Máximo de sentenças em comentário':[series_portuguese[0].max(), series_english[0].max()],\n",
        "        'Nro. Mínimo de sentenças em comentário':[series_portuguese[0].min(), series_english[0].min()] } "
      ],
      "execution_count": null,
      "outputs": []
    },
    {
      "cell_type": "code",
      "metadata": {
        "id": "o5t8wfpHOYlW",
        "colab": {
          "base_uri": "https://localhost:8080/",
          "height": 128
        },
        "outputId": "bcda18c8-8cd4-4202-e750-6fc6fbab7d80"
      },
      "source": [
        "pd.DataFrame(estatisticas)"
      ],
      "execution_count": null,
      "outputs": [
        {
          "output_type": "execute_result",
          "data": {
            "text/html": [
              "<div>\n",
              "<style scoped>\n",
              "    .dataframe tbody tr th:only-of-type {\n",
              "        vertical-align: middle;\n",
              "    }\n",
              "\n",
              "    .dataframe tbody tr th {\n",
              "        vertical-align: top;\n",
              "    }\n",
              "\n",
              "    .dataframe thead th {\n",
              "        text-align: right;\n",
              "    }\n",
              "</style>\n",
              "<table border=\"1\" class=\"dataframe\">\n",
              "  <thead>\n",
              "    <tr style=\"text-align: right;\">\n",
              "      <th></th>\n",
              "      <th>Idioma</th>\n",
              "      <th>Qtde de comentários</th>\n",
              "      <th>Qtde de sentenças</th>\n",
              "      <th>Nro. Médio de Sentenças por comentários</th>\n",
              "      <th>Nro. Médio de palavras por comentários</th>\n",
              "      <th>Nro. Máximo de sentenças em comentário</th>\n",
              "      <th>Nro. Mínimo de sentenças em comentário</th>\n",
              "    </tr>\n",
              "  </thead>\n",
              "  <tbody>\n",
              "    <tr>\n",
              "      <th>0</th>\n",
              "      <td>Português</td>\n",
              "      <td>99999</td>\n",
              "      <td>362729</td>\n",
              "      <td>3.627326</td>\n",
              "      <td>42.209432</td>\n",
              "      <td>56</td>\n",
              "      <td>1</td>\n",
              "    </tr>\n",
              "    <tr>\n",
              "      <th>1</th>\n",
              "      <td>Inglês</td>\n",
              "      <td>99999</td>\n",
              "      <td>371738</td>\n",
              "      <td>3.717417</td>\n",
              "      <td>44.295983</td>\n",
              "      <td>57</td>\n",
              "      <td>1</td>\n",
              "    </tr>\n",
              "  </tbody>\n",
              "</table>\n",
              "</div>"
            ],
            "text/plain": [
              "      Idioma  ...  Nro. Mínimo de sentenças em comentário\n",
              "0  Português  ...                                       1\n",
              "1     Inglês  ...                                       1\n",
              "\n",
              "[2 rows x 7 columns]"
            ]
          },
          "metadata": {
            "tags": []
          },
          "execution_count": 57
        }
      ]
    },
    {
      "cell_type": "code",
      "metadata": {
        "id": "SsY9Mx8O21Gb",
        "colab": {
          "base_uri": "https://localhost:8080/"
        },
        "outputId": "0163e2b0-15a1-4757-a2ef-50c9c89001cc"
      },
      "source": [
        "portuguese_dataset['ratingValue'].value_counts()"
      ],
      "execution_count": null,
      "outputs": [
        {
          "output_type": "execute_result",
          "data": {
            "text/plain": [
              "5    51169\n",
              "4    32390\n",
              "3    10349\n",
              "2     3175\n",
              "1     2917\n",
              "Name: ratingValue, dtype: int64"
            ]
          },
          "metadata": {
            "tags": []
          },
          "execution_count": 58
        }
      ]
    },
    {
      "cell_type": "code",
      "metadata": {
        "id": "xmC5NRQq3Z5x",
        "colab": {
          "base_uri": "https://localhost:8080/",
          "height": 526
        },
        "outputId": "326403cc-06aa-43e7-b7b5-2641d33d75da"
      },
      "source": [
        "portuguese_dataset['ratingValue'].value_counts().plot(kind='bar', title='Distribuição da Notas', xlabel='Nota',ylabel='Qtde de Reviews')"
      ],
      "execution_count": null,
      "outputs": [
        {
          "output_type": "execute_result",
          "data": {
            "text/plain": [
              "<matplotlib.axes._subplots.AxesSubplot at 0x7fdf204909b0>"
            ]
          },
          "metadata": {
            "tags": []
          },
          "execution_count": 69
        },
        {
          "output_type": "display_data",
          "data": {
            "image/png": "[encoded data removed]",
            "text/plain": [
              "<Figure size 576x576 with 1 Axes>"
            ]
          },
          "metadata": {
            "tags": [],
            "needs_background": "light"
          }
        }
      ]
    },
    {
      "cell_type": "code",
      "metadata": {
        "id": "yl91nHQgUbVE",
        "colab": {
          "base_uri": "https://localhost:8080/"
        },
        "outputId": "07a508ea-4f1c-44ff-d0b8-ca17c8639b19"
      },
      "source": [
        "portuguese_dataset['mobileDevice'].value_counts()"
      ],
      "execution_count": null,
      "outputs": [
        {
          "output_type": "execute_result",
          "data": {
            "text/plain": [
              "False    57599\n",
              "True     42401\n",
              "Name: mobileDevice, dtype: int64"
            ]
          },
          "metadata": {
            "tags": []
          },
          "execution_count": 70
        }
      ]
    },
    {
      "cell_type": "code",
      "metadata": {
        "id": "Up8oLyWT4snE",
        "colab": {
          "base_uri": "https://localhost:8080/",
          "height": 531
        },
        "outputId": "fb9cd3cb-f1ce-4ffb-da4d-fc10cf8684e9"
      },
      "source": [
        "portuguese_dataset['mobileDevice'].value_counts().plot(kind='bar', title='Dispositivos Móveis')"
      ],
      "execution_count": null,
      "outputs": [
        {
          "output_type": "execute_result",
          "data": {
            "text/plain": [
              "<matplotlib.axes._subplots.AxesSubplot at 0x7fdf206707b8>"
            ]
          },
          "metadata": {
            "tags": []
          },
          "execution_count": 71
        },
        {
          "output_type": "display_data",
          "data": {
            "image/png": "[encoded data removed]",
            "text/plain": [
              "<Figure size 576x576 with 1 Axes>"
            ]
          },
          "metadata": {
            "tags": [],
            "needs_background": "light"
          }
        }
      ]
    },
    {
      "cell_type": "code",
      "metadata": {
        "id": "PuVsgpIYaHIG",
        "colab": {
          "base_uri": "https://localhost:8080/"
        },
        "outputId": "84c89dc7-f907-40d7-ddfb-3c3a7f3d99da"
      },
      "source": [
        "portuguese_dataset['userLocation'].value_counts()[:5].sort_values(ascending=False)"
      ],
      "execution_count": null,
      "outputs": [
        {
          "output_type": "execute_result",
          "data": {
            "text/plain": [
              "São Paulo, SP         14707\n",
              "Rio de Janeiro, RJ     8266\n",
              "Brasília, DF           5407\n",
              "Belo Horizonte, MG     4663\n",
              "Porto Alegre, RS       3783\n",
              "Name: userLocation, dtype: int64"
            ]
          },
          "metadata": {
            "tags": []
          },
          "execution_count": 72
        }
      ]
    },
    {
      "cell_type": "code",
      "metadata": {
        "id": "g7fMHammXseu",
        "colab": {
          "base_uri": "https://localhost:8080/",
          "height": 615
        },
        "outputId": "3bd625c3-0a05-4a8c-e39a-9d0b99999170"
      },
      "source": [
        "portuguese_dataset['userLocation'].value_counts()[:5].sort_values(ascending=False).plot(kind='bar', title='Localização', xlabel='Cidade',ylabel='Qtde de Reviews')"
      ],
      "execution_count": null,
      "outputs": [
        {
          "output_type": "execute_result",
          "data": {
            "text/plain": [
              "<matplotlib.axes._subplots.AxesSubplot at 0x7fdf207df9b0>"
            ]
          },
          "metadata": {
            "tags": []
          },
          "execution_count": 73
        },
        {
          "output_type": "display_data",
          "data": {
            "image/png": "[encoded data removed]",
            "text/plain": [
              "<Figure size 576x576 with 1 Axes>"
            ]
          },
          "metadata": {
            "tags": [],
            "needs_background": "light"
          }
        }
      ]
    },
    {
      "cell_type": "markdown",
      "metadata": {
        "id": "jZBDoZDAVpN7"
      },
      "source": [
        "# **2.4 - Análise de Sentimento**"
      ]
    },
    {
      "cell_type": "markdown",
      "metadata": {
        "id": "lj1jbBYnL7O7"
      },
      "source": [
        "\n",
        "> A análise de sentimentos pode ser vista como uma tarefa de processamento de linguagem natural (PNL) que visa analisar opiniões, sentimentos e emoções expressas em dados não estruturados\n",
        "\n"
      ]
    },
    {
      "cell_type": "markdown",
      "metadata": {
        "id": "UVLHF-Nld7pj"
      },
      "source": [
        "\n",
        "\n",
        "> # **2.4.1 Etapa I (Em relação a todo o dataset)**\n",
        "\n",
        "\n",
        "> Mostrar a distribuição de sentenças factuais e subjetivas, assim como a distribuição de comentários positivos, negativos e neutros.\n",
        "\n"
      ]
    },
    {
      "cell_type": "code",
      "metadata": {
        "id": "EDf14HC5C6K1",
        "colab": {
          "base_uri": "https://localhost:8080/",
          "height": 536
        },
        "outputId": "cb68da5e-9b99-474c-dea7-55d214e68d64"
      },
      "source": [
        "\n",
        "subjetividade = {'Sentenca':[],'Subjetividade':[]}\n",
        "listaSentenca = []\n",
        "listaSubjetividade = []\n",
        "\n",
        "for i in range(len(english_dataset)):\n",
        "  comentario_blob = TextBlob(str(english_dataset['reviewBody'][i]))\n",
        "\n",
        "  for sentence in comentario_blob.sentences:\n",
        "    listaSentenca.append(str(sentence))\n",
        "    listaSubjetividade.append(round(sentence.sentiment.subjectivity,1))\n",
        "\n",
        "subjetividade.update({'Sentenca': listaSentenca})\n",
        "subjetividade.update({'Subjetividade': listaSubjetividade})\n",
        "\n",
        "dataFrame = pd.DataFrame(subjetividade)\n",
        "dataFrame.groupby('Subjetividade').Subjetividade.count().plot(kind=\"bar\", title='Distribuição da Subjetividade', xlabel='Subjetividade',ylabel='Qtde de Sentenças')"
      ],
      "execution_count": null,
      "outputs": [
        {
          "output_type": "execute_result",
          "data": {
            "text/plain": [
              "<matplotlib.axes._subplots.AxesSubplot at 0x7fdf202b9668>"
            ]
          },
          "metadata": {
            "tags": []
          },
          "execution_count": 74
        },
        {
          "output_type": "display_data",
          "data": {
            "image/png": "[encoded data removed]",
            "text/plain": [
              "<Figure size 576x576 with 1 Axes>"
            ]
          },
          "metadata": {
            "tags": [],
            "needs_background": "light"
          }
        }
      ]
    },
    {
      "cell_type": "markdown",
      "metadata": {
        "id": "QkFNRZ787xlv"
      },
      "source": [
        "**Dada a distribuição acima, resolvemos adotar que a partir de 0.3 é uma senteça é considerada subjetiva e menor que 0.3 é factual.**"
      ]
    },
    {
      "cell_type": "code",
      "metadata": {
        "id": "DGfygrSToX06"
      },
      "source": [
        "dataFrame.loc[dataFrame['Subjetividade'] >= 0.3, 'Subjetividade'] = 1"
      ],
      "execution_count": null,
      "outputs": []
    },
    {
      "cell_type": "code",
      "metadata": {
        "id": "3SHZPLA7xmaN"
      },
      "source": [
        "dataFrame.loc[dataFrame['Subjetividade'] < 0.3, 'Subjetividade'] = 0"
      ],
      "execution_count": null,
      "outputs": []
    },
    {
      "cell_type": "code",
      "metadata": {
        "id": "JL4kjXyR6Ksy",
        "colab": {
          "base_uri": "https://localhost:8080/",
          "height": 419
        },
        "outputId": "e95f45f5-0c97-49e1-d97f-e9bfa731469a"
      },
      "source": [
        "dataFrame"
      ],
      "execution_count": null,
      "outputs": [
        {
          "output_type": "execute_result",
          "data": {
            "text/html": [
              "<div>\n",
              "<style scoped>\n",
              "    .dataframe tbody tr th:only-of-type {\n",
              "        vertical-align: middle;\n",
              "    }\n",
              "\n",
              "    .dataframe tbody tr th {\n",
              "        vertical-align: top;\n",
              "    }\n",
              "\n",
              "    .dataframe thead th {\n",
              "        text-align: right;\n",
              "    }\n",
              "</style>\n",
              "<table border=\"1\" class=\"dataframe\">\n",
              "  <thead>\n",
              "    <tr style=\"text-align: right;\">\n",
              "      <th></th>\n",
              "      <th>Sentenca</th>\n",
              "      <th>Subjetividade</th>\n",
              "    </tr>\n",
              "  </thead>\n",
              "  <tbody>\n",
              "    <tr>\n",
              "      <th>0</th>\n",
              "      <td>Wonderful food, the place for real shrimp gum.</td>\n",
              "      <td>1.0</td>\n",
              "    </tr>\n",
              "    <tr>\n",
              "      <th>1</th>\n",
              "      <td>The waiter Éric Lima served us very well, we i...</td>\n",
              "      <td>1.0</td>\n",
              "    </tr>\n",
              "    <tr>\n",
              "      <th>2</th>\n",
              "      <td>Good food, nice drinks and a very cozy atmosph...</td>\n",
              "      <td>1.0</td>\n",
              "    </tr>\n",
              "    <tr>\n",
              "      <th>3</th>\n",
              "      <td>We tried many things and everything pleased us.</td>\n",
              "      <td>1.0</td>\n",
              "    </tr>\n",
              "    <tr>\n",
              "      <th>4</th>\n",
              "      <td>Especially a duck served in one of the house d...</td>\n",
              "      <td>1.0</td>\n",
              "    </tr>\n",
              "    <tr>\n",
              "      <th>...</th>\n",
              "      <td>...</td>\n",
              "      <td>...</td>\n",
              "    </tr>\n",
              "    <tr>\n",
              "      <th>371734</th>\n",
              "      <td>Very expensive, right?</td>\n",
              "      <td>1.0</td>\n",
              "    </tr>\n",
              "    <tr>\n",
              "      <th>371735</th>\n",
              "      <td>The lettuce was withered, no seasoning options...</td>\n",
              "      <td>1.0</td>\n",
              "    </tr>\n",
              "    <tr>\n",
              "      <th>371736</th>\n",
              "      <td>Aff.</td>\n",
              "      <td>0.0</td>\n",
              "    </tr>\n",
              "    <tr>\n",
              "      <th>371737</th>\n",
              "      <td>Thanks, neither for the environment nor for th...</td>\n",
              "      <td>0.0</td>\n",
              "    </tr>\n",
              "    <tr>\n",
              "      <th>371738</th>\n",
              "      <td>Fantastic experience with delicious food and e...</td>\n",
              "      <td>1.0</td>\n",
              "    </tr>\n",
              "  </tbody>\n",
              "</table>\n",
              "<p>371739 rows × 2 columns</p>\n",
              "</div>"
            ],
            "text/plain": [
              "                                                 Sentenca  Subjetividade\n",
              "0          Wonderful food, the place for real shrimp gum.            1.0\n",
              "1       The waiter Éric Lima served us very well, we i...            1.0\n",
              "2       Good food, nice drinks and a very cozy atmosph...            1.0\n",
              "3         We tried many things and everything pleased us.            1.0\n",
              "4       Especially a duck served in one of the house d...            1.0\n",
              "...                                                   ...            ...\n",
              "371734                             Very expensive, right?            1.0\n",
              "371735  The lettuce was withered, no seasoning options...            1.0\n",
              "371736                                               Aff.            0.0\n",
              "371737  Thanks, neither for the environment nor for th...            0.0\n",
              "371738  Fantastic experience with delicious food and e...            1.0\n",
              "\n",
              "[371739 rows x 2 columns]"
            ]
          },
          "metadata": {
            "tags": []
          },
          "execution_count": 77
        }
      ]
    },
    {
      "cell_type": "code",
      "metadata": {
        "id": "uqTznztxxsr5",
        "colab": {
          "base_uri": "https://localhost:8080/",
          "height": 536
        },
        "outputId": "b7ae7c36-fd4a-4345-a0f8-266ff792cee1"
      },
      "source": [
        "dataFrame.groupby('Subjetividade').Subjetividade.count().plot(kind=\"bar\", title='Distribuição da Subjetividade', xlabel='Subjetividade',ylabel='Qtde de Sentenças')"
      ],
      "execution_count": null,
      "outputs": [
        {
          "output_type": "execute_result",
          "data": {
            "text/plain": [
              "<matplotlib.axes._subplots.AxesSubplot at 0x7fdf1f781358>"
            ]
          },
          "metadata": {
            "tags": []
          },
          "execution_count": 78
        },
        {
          "output_type": "display_data",
          "data": {
            "image/png": "[encoded data removed]",
            "text/plain": [
              "<Figure size 576x576 with 1 Axes>"
            ]
          },
          "metadata": {
            "tags": [],
            "needs_background": "light"
          }
        }
      ]
    },
    {
      "cell_type": "code",
      "metadata": {
        "id": "5ieu-78TyGBg",
        "colab": {
          "base_uri": "https://localhost:8080/",
          "height": 539
        },
        "outputId": "5d365acb-f23b-4e6c-c7e8-6138f96d4eb3"
      },
      "source": [
        "lista_polaridade = []\n",
        "polaridade = {\"Sentenca\":[],\"Polaridade\":[]}\n",
        "\n",
        "listaSentencasSubjetivas = list(dataFrame.loc[dataFrame['Subjetividade'] == 1, 'Sentenca'])\n",
        "\n",
        "for sentencaSubjetiva in listaSentencasSubjetivas:\n",
        "  comentario_blob = TextBlob(sentencaSubjetiva)\n",
        "  lista_polaridade.append(round(comentario_blob.sentiment.polarity,1))\n",
        "\n",
        "polaridade.update({'Sentenca': listaSentencasSubjetivas})\n",
        "polaridade.update({'Polaridade': lista_polaridade})\n",
        "\n",
        "dataFramePolaridade = pd.DataFrame(polaridade)\n",
        "dataFramePolaridade.groupby('Polaridade').Polaridade.count().plot(kind=\"bar\", title='Distribuição da Polaridade', xlabel='Polaridade',ylabel='Qtde de Sentenças')\n"
      ],
      "execution_count": null,
      "outputs": [
        {
          "output_type": "execute_result",
          "data": {
            "text/plain": [
              "<matplotlib.axes._subplots.AxesSubplot at 0x7fdf1fe4b3c8>"
            ]
          },
          "metadata": {
            "tags": []
          },
          "execution_count": 79
        },
        {
          "output_type": "display_data",
          "data": {
            "image/png": "[encoded data removed]",
            "text/plain": [
              "<Figure size 576x576 with 1 Axes>"
            ]
          },
          "metadata": {
            "tags": [],
            "needs_background": "light"
          }
        }
      ]
    },
    {
      "cell_type": "code",
      "metadata": {
        "id": "toVYm_rSBYA2"
      },
      "source": [
        "dataFramePolaridade.loc[dataFramePolaridade['Polaridade'] < 0, 'Polaridade'] = -1"
      ],
      "execution_count": null,
      "outputs": []
    },
    {
      "cell_type": "code",
      "metadata": {
        "id": "XQWVYHqHBsl-"
      },
      "source": [
        "dataFramePolaridade.loc[dataFramePolaridade['Polaridade'] > 0, 'Polaridade'] = 1"
      ],
      "execution_count": null,
      "outputs": []
    },
    {
      "cell_type": "code",
      "metadata": {
        "colab": {
          "base_uri": "https://localhost:8080/"
        },
        "id": "K0HX2O2NUqBx",
        "outputId": "0c922fa5-f7ce-44a2-fc5f-3db119e72408"
      },
      "source": [
        "dataFramePolaridade.groupby('Polaridade').Polaridade.count()"
      ],
      "execution_count": null,
      "outputs": [
        {
          "output_type": "execute_result",
          "data": {
            "text/plain": [
              "Polaridade\n",
              "-1.0     32479\n",
              " 0.0     16515\n",
              " 1.0    222158\n",
              "Name: Polaridade, dtype: int64"
            ]
          },
          "metadata": {
            "tags": []
          },
          "execution_count": 82
        }
      ]
    },
    {
      "cell_type": "code",
      "metadata": {
        "id": "SbF735Q8B1yN",
        "colab": {
          "base_uri": "https://localhost:8080/",
          "height": 539
        },
        "outputId": "4dfb0357-0c44-44c0-c026-d84c30caa074"
      },
      "source": [
        "dataFramePolaridade.groupby('Polaridade').Polaridade.count().plot(kind=\"bar\", title='Distribuição da Polaridade', xlabel='Polaridade',ylabel='Qtde de Sentenças')"
      ],
      "execution_count": null,
      "outputs": [
        {
          "output_type": "execute_result",
          "data": {
            "text/plain": [
              "<matplotlib.axes._subplots.AxesSubplot at 0x7fdf1fadfe80>"
            ]
          },
          "metadata": {
            "tags": []
          },
          "execution_count": 83
        },
        {
          "output_type": "display_data",
          "data": {
            "image/png": "[encoded data removed]",
            "text/plain": [
              "<Figure size 576x576 with 1 Axes>"
            ]
          },
          "metadata": {
            "tags": [],
            "needs_background": "light"
          }
        }
      ]
    },
    {
      "cell_type": "markdown",
      "metadata": {
        "id": "5dXTLh3AEWJb"
      },
      "source": [
        "> # **2.4.2 Etapa II  - (Em relação a 200 sentenças sorteadas aleatoriamente)**\n"
      ]
    },
    {
      "cell_type": "code",
      "metadata": {
        "id": "t7ZrTgt7-rls"
      },
      "source": [
        "def lista_sentencas_sorteadas():\n",
        "  indices_sentencas_sorteadas  = [168929, 22553, 142868, 172447, 241519, 241090, 103058,\n",
        "               148056, 161765, 300125, 69477, 43592, 104928, 359608, 182455,\n",
        "               59715, 56436, 37128, 115125, 45107, 27092, 359822, 257751, 63098,\n",
        "               261522, 96224, 125213, 87472, 33467, 337509, 24407, 142779,\n",
        "               295674, 183152, 225627, 360073, 3494, 188423,\n",
        "               357804, 267693, 231728, 145633, 116408, 22365, 108572, 114527, 156790,\n",
        "               72881, 350031, 326486, 220802, 55784, 355324, 310755, 285849,\n",
        "               197272, 304848, 68014, 31498, 102997, 207435, 292551, 7415, 290528,\n",
        "               355669, 9856, 297, 299389, 229078, 334077, 297263, 158423, 5614,\n",
        "               89082, 20891, 317626, 200094, 318231, 83623, 46266, 191368, 48695,\n",
        "               246578, 179431, 15655, 44779, 124211, 245469, 323665, 331011, 12968, 96822,\n",
        "               195556, 332764, 276229, 36084, 351534, 246306, 32865, 177998, 48710,\n",
        "               95498, 158997, 103958, 112762, 221178, 206511, 254632, 68538, 285410,\n",
        "               213653, 70343, 54238, 159437, 244952, 235127, 296631, 327114, 291679,\n",
        "               178911, 247358, 331324, 9513, 267788, 54746, 259076, 234020, 177799, 270617,\n",
        "               241760, 355358, 145502, 81979, 89775, 352321, 165296, 290842, 357345,\n",
        "               119901, 89852, 218543, 144726, 84673, 196752, 153368, 204677, 249529, 318715,\n",
        "               335741, 62435, 67481, 108227, 34526, 158623, 165651, 206831, 159201, 66949, 205676,\n",
        "               294214, 99787, 158646, 325936, 250335, 243971, 140370, 74341, 114910, 287418,\n",
        "               98280, 121855, 200461, 68162, 165735, 194062, 215419, 67714, 3110, 32318,\n",
        "               251687, 318449, 303161, 196500, 231872, 216529, 349820, 359205, 310871, 353845, 74400,\n",
        "               57131, 248919, 295382, 160973, 278104, 218077, 181430, 240509, 245599, 344916]\n",
        "\n",
        "  lista_de_sentencas = []\n",
        "  lista_de_sentencas_sorteadas = []\n",
        "  for i in range(TAM_DATASET):\n",
        "    try:\n",
        "      textoReview = portuguese_dataset['reviewBody'][i]\n",
        "      comentario_blob = TextBlob(textoReview)\n",
        "      for sentence_br in comentario_blob.sentences:\n",
        "        lista_de_sentencas.append(sentence_br)\n",
        "    except:\n",
        "      1 + 1 \n",
        "  for j in range(len(indices_sentencas_sorteadas)):\n",
        "    texto = str(lista_de_sentencas[indices_sentencas_sorteadas[j]])\n",
        "    texto_sem_enter = texto.replace(\"\\n\",\" \")\n",
        "    lista_de_sentencas_sorteadas.append(texto_sem_enter)\n",
        "\n",
        "  return lista_de_sentencas_sorteadas"
      ],
      "execution_count": null,
      "outputs": []
    },
    {
      "cell_type": "code",
      "metadata": {
        "id": "EUweGO7QZQYY"
      },
      "source": [
        "def traduzir_textBlob(lista):\n",
        "  translations = []\n",
        "  for sentenca in lista:\n",
        "    texto_blob = TextBlob(sentenca)\n",
        "    \n",
        "    try:\n",
        "      texto_traduzido_blob = texto_blob.translate(to='us')\n",
        "    except:\n",
        "      texto_traduzido_blob = texto_blob\n",
        "      print(\"Erro ao traduzir: \",sentenca)\n",
        "\n",
        "    texto_traduzido = str(texto_traduzido_blob)\n",
        "\n",
        "    translations.append(texto_traduzido)\n",
        "    numero_aleatorio = randrange(1,4)  \n",
        "    time.sleep(numero_aleatorio)\n",
        "\n",
        "  return translations"
      ],
      "execution_count": null,
      "outputs": []
    },
    {
      "cell_type": "code",
      "metadata": {
        "id": "3-RCDBUPYBsr"
      },
      "source": [
        "def traduzir_googleTrans(lista):\n",
        "  translated_list = []\n",
        "  translator = Translator()\n",
        "  translations = translator.translate(lista)\n",
        "  for translation in translations:\n",
        "    translated_list.append(translation.text)\n",
        "  return translated_list"
      ],
      "execution_count": null,
      "outputs": []
    },
    {
      "cell_type": "code",
      "metadata": {
        "id": "Tu62NOGBhQLp"
      },
      "source": [
        "def gerar_arquivo_reposta_metodo_textBlob(tradutor, lista_de_sentencas_sorteadas, nome_arquivo):\n",
        "  lista_sentenca_traduzida = []\n",
        "  lista_subjetividade = []\n",
        "  lista_polaridade = []\n",
        "  reposta_metodo = {'Sentenca':[], 'Subjetividade':[], 'Polaridade':[]}\n",
        "\n",
        "  lista_traduzida = tradutor(lista_de_sentencas_sorteadas)\n",
        "\n",
        "  for sentenca_traduzida in lista_traduzida:\n",
        "    \n",
        "    sentence_english =  TextBlob(sentenca_traduzida)\n",
        "\n",
        "    lista_sentenca_traduzida.append(str(sentence_english))\n",
        "\n",
        "    if (round(sentence_english.sentiment.subjectivity,1)) >= 0.3:\n",
        "      lista_subjetividade.append(1)\n",
        "    else:\n",
        "      lista_subjetividade.append(0)  \n",
        "\n",
        "    if (round(sentence_english.sentiment.polarity,1)) == 0:\n",
        "      lista_polaridade.append(0)\n",
        "    elif (round(sentence_english.sentiment.polarity,1)) > 0:\n",
        "      lista_polaridade.append(1)\n",
        "    else:\n",
        "      lista_polaridade.append(-1)  \n",
        "    \n",
        "  reposta_metodo.update({'Sentenca': lista_sentenca_traduzida})\n",
        "  reposta_metodo.update({'Subjetividade': lista_subjetividade})\n",
        "  reposta_metodo.update({'Polaridade': lista_polaridade})\n",
        "\n",
        "  df = pd.DataFrame(reposta_metodo)\n",
        "\n",
        "  arquivo = open(nome_arquivo, \"a\")\n",
        "  df.to_csv(nome_arquivo)\n",
        "  arquivo.close()\n",
        "  files.download(nome_arquivo)\n"
      ],
      "execution_count": null,
      "outputs": []
    },
    {
      "cell_type": "code",
      "metadata": {
        "id": "M5GzqxtrHnru",
        "colab": {
          "resources": {
            "http://localhost:8080/nbextensions/google.colab/files.js": {
              "data": "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",
              "ok": true,
              "headers": [
                [
                  "content-type",
                  "application/javascript"
                ]
              ],
              "status": 200,
              "status_text": ""
            }
          },
          "base_uri": "https://localhost:8080/",
          "height": 72
        },
        "outputId": "76da6c7a-eb7f-48be-d708-83051da3b650"
      },
      "source": [
        "uploadedGabarito = files.upload()"
      ],
      "execution_count": null,
      "outputs": [
        {
          "output_type": "display_data",
          "data": {
            "text/html": [
              "\n",
              "     <input type=\"file\" id=\"files-294ec273-8a75-4b61-894c-d29ffde98135\" name=\"files[]\" multiple disabled\n",
              "        style=\"border:none\" />\n",
              "     <output id=\"result-294ec273-8a75-4b61-894c-d29ffde98135\">\n",
              "      Upload widget is only available when the cell has been executed in the\n",
              "      current browser session. Please rerun this cell to enable.\n",
              "      </output>\n",
              "      <script src=\"/nbextensions/google.colab/files.js\"></script> "
            ],
            "text/plain": [
              "<IPython.core.display.HTML object>"
            ]
          },
          "metadata": {
            "tags": []
          }
        },
        {
          "output_type": "stream",
          "text": [
            "Saving avaliacoes.xlsx to avaliacoes.xlsx\n"
          ],
          "name": "stdout"
        }
      ]
    },
    {
      "cell_type": "code",
      "metadata": {
        "id": "XOuAs0Xn2sZf"
      },
      "source": [
        "gabarito = pd.read_excel(io.BytesIO(uploadedGabarito['avaliacoes.xlsx']))"
      ],
      "execution_count": null,
      "outputs": []
    },
    {
      "cell_type": "code",
      "metadata": {
        "id": "P1gRWxyaW_gT"
      },
      "source": [
        "lista_sorteadas = lista_sentencas_sorteadas()"
      ],
      "execution_count": null,
      "outputs": []
    },
    {
      "cell_type": "code",
      "metadata": {
        "id": "MydhnZQrlbl9"
      },
      "source": [
        "gerar_arquivo_reposta_metodo_textBlob(traduzir_textBlob,lista_sorteadas,\"resposta-metodo-textblob.csv\")"
      ],
      "execution_count": null,
      "outputs": []
    },
    {
      "cell_type": "code",
      "metadata": {
        "id": "DaiUQsSoS-me",
        "colab": {
          "resources": {
            "http://localhost:8080/nbextensions/google.colab/files.js": {
              "data": "Ly8gQ29weXJpZ2h0IDIwMTcgR29vZ2xlIExMQwovLwovLyBMaWNlbnNlZCB1bmRlciB0aGUgQXBhY2hlIExpY2Vuc2UsIFZlcnNpb24gMi4wICh0aGUgIkxpY2Vuc2UiKTsKLy8geW91IG1heSBub3QgdXNlIHRoaXMgZmlsZSBleGNlcHQgaW4gY29tcGxpYW5jZSB3aXRoIHRoZSBMaWNlbnNlLgovLyBZb3UgbWF5IG9idGFpbiBhIGNvcHkgb2YgdGhlIExpY2Vuc2UgYXQKLy8KLy8gICAgICBodHRwOi8vd3d3LmFwYWNoZS5vcmcvbGljZW5zZXMvTElDRU5TRS0yLjAKLy8KLy8gVW5sZXNzIHJlcXVpcmVkIGJ5IGFwcGxpY2FibGUgbGF3IG9yIGFncmVlZCB0byBpbiB3cml0aW5nLCBzb2Z0d2FyZQovLyBkaXN0cmlidXRlZCB1bmRlciB0aGUgTGljZW5zZSBpcyBkaXN0cmlidXRlZCBvbiBhbiAiQVMgSVMiIEJBU0lTLAovLyBXSVRIT1VUIFdBUlJBTlRJRVMgT1IgQ09ORElUSU9OUyBPRiBBTlkgS0lORCwgZWl0aGVyIGV4cHJlc3Mgb3IgaW1wbGllZC4KLy8gU2VlIHRoZSBMaWNlbnNlIGZvciB0aGUgc3BlY2lmaWMgbGFuZ3VhZ2UgZ292ZXJuaW5nIHBlcm1pc3Npb25zIGFuZAovLyBsaW1pdGF0aW9ucyB1bmRlciB0aGUgTGljZW5zZS4KCi8qKgogKiBAZmlsZW92ZXJ2aWV3IEhlbHBlcnMgZm9yIGdvb2dsZS5jb2xhYiBQeXRob24gbW9kdWxlLgogKi8KKGZ1bmN0aW9uKHNjb3BlKSB7CmZ1bmN0aW9uIHNwYW4odGV4dCwgc3R5bGVBdHRyaWJ1dGVzID0ge30pIHsKICBjb25zdCBlbGVtZW50ID0gZG9jdW1lbnQuY3JlYXRlRWxlbWVudCgnc3BhbicpOwogIGVsZW1lbnQudGV4dENvbnRlbnQgPSB0ZXh0OwogIGZvciAoY29uc3Qga2V5IG9mIE9iamVjdC5rZXlzKHN0eWxlQXR0cmlidXRlcykpIHsKICAgIGVsZW1lbnQuc3R5bGVba2V5XSA9IHN0eWxlQXR0cmlidXRlc1trZXldOwogIH0KICByZXR1cm4gZWxlbWVudDsKfQoKLy8gTWF4IG51bWJlciBvZiBieXRlcyB3aGljaCB3aWxsIGJlIHVwbG9hZGVkIGF0IGEgdGltZS4KY29uc3QgTUFYX1BBWUxPQURfU0laRSA9IDEwMCAqIDEwMjQ7CgpmdW5jdGlvbiBfdXBsb2FkRmlsZXMoaW5wdXRJZCwgb3V0cHV0SWQpIHsKICBjb25zdCBzdGVwcyA9IHVwbG9hZEZpbGVzU3RlcChpbnB1dElkLCBvdXRwdXRJZCk7CiAgY29uc3Qgb3V0cHV0RWxlbWVudCA9IGRvY3VtZW50LmdldEVsZW1lbnRCeUlkKG91dHB1dElkKTsKICAvLyBDYWNoZSBzdGVwcyBvbiB0aGUgb3V0cHV0RWxlbWVudCB0byBtYWtlIGl0IGF2YWlsYWJsZSBmb3IgdGhlIG5leHQgY2FsbAogIC8vIHRvIHVwbG9hZEZpbGVzQ29udGludWUgZnJvbSBQeXRob24uCiAgb3V0cHV0RWxlbWVudC5zdGVwcyA9IHN0ZXBzOwoKICByZXR1cm4gX3VwbG9hZEZpbGVzQ29udGludWUob3V0cHV0SWQpOwp9CgovLyBUaGlzIGlzIHJvdWdobHkgYW4gYXN5bmMgZ2VuZXJhdG9yIChub3Qgc3VwcG9ydGVkIGluIHRoZSBicm93c2VyIHlldCksCi8vIHdoZXJlIHRoZXJlIGFyZSBtdWx0aXBsZSBhc3luY2hyb25vdXMgc3RlcHMgYW5kIHRoZSBQeXRob24gc2lkZSBpcyBnb2luZwovLyB0byBwb2xsIGZvciBjb21wbGV0aW9uIG9mIGVhY2ggc3RlcC4KLy8gVGhpcyB1c2VzIGEgUHJvbWlzZSB0byBibG9jayB0aGUgcHl0aG9uIHNpZGUgb24gY29tcGxldGlvbiBvZiBlYWNoIHN0ZXAsCi8vIHRoZW4gcGFzc2VzIHRoZSByZXN1bHQgb2YgdGhlIHByZXZpb3VzIHN0ZXAgYXMgdGhlIGlucHV0IHRvIHRoZSBuZXh0IHN0ZXAuCmZ1bmN0aW9uIF91cGxvYWRGaWxlc0NvbnRpbnVlKG91dHB1dElkKSB7CiAgY29uc3Qgb3V0cHV0RWxlbWVudCA9IGRvY3VtZW50LmdldEVsZW1lbnRCeUlkKG91dHB1dElkKTsKICBjb25zdCBzdGVwcyA9IG91dHB1dEVsZW1lbnQuc3RlcHM7CgogIGNvbnN0IG5leHQgPSBzdGVwcy5uZXh0KG91dHB1dEVsZW1lbnQubGFzdFByb21pc2VWYWx1ZSk7CiAgcmV0dXJuIFByb21pc2UucmVzb2x2ZShuZXh0LnZhbHVlLnByb21pc2UpLnRoZW4oKHZhbHVlKSA9PiB7CiAgICAvLyBDYWNoZSB0aGUgbGFzdCBwcm9taXNlIHZhbHVlIHRvIG1ha2UgaXQgYXZhaWxhYmxlIHRvIHRoZSBuZXh0CiAgICAvLyBzdGVwIG9mIHRoZSBnZW5lcmF0b3IuCiAgICBvdXRwdXRFbGVtZW50Lmxhc3RQcm9taXNlVmFsdWUgPSB2YWx1ZTsKICAgIHJldHVybiBuZXh0LnZhbHVlLnJlc3BvbnNlOwogIH0pOwp9CgovKioKICogR2VuZXJhdG9yIGZ1bmN0aW9uIHdoaWNoIGlzIGNhbGxlZCBiZXR3ZWVuIGVhY2ggYXN5bmMgc3RlcCBvZiB0aGUgdXBsb2FkCiAqIHByb2Nlc3MuCiAqIEBwYXJhbSB7c3RyaW5nfSBpbnB1dElkIEVsZW1lbnQgSUQgb2YgdGhlIGlucHV0IGZpbGUgcGlja2VyIGVsZW1lbnQuCiAqIEBwYXJhbSB7c3RyaW5nfSBvdXRwdXRJZCBFbGVtZW50IElEIG9mIHRoZSBvdXRwdXQgZGlzcGxheS4KICogQHJldHVybiB7IUl0ZXJhYmxlPCFPYmplY3Q+fSBJdGVyYWJsZSBvZiBuZXh0IHN0ZXBzLgogKi8KZnVuY3Rpb24qIHVwbG9hZEZpbGVzU3RlcChpbnB1dElkLCBvdXRwdXRJZCkgewogIGNvbnN0IGlucHV0RWxlbWVudCA9IGRvY3VtZW50LmdldEVsZW1lbnRCeUlkKGlucHV0SWQpOwogIGlucHV0RWxlbWVudC5kaXNhYmxlZCA9IGZhbHNlOwoKICBjb25zdCBvdXRwdXRFbGVtZW50ID0gZG9jdW1lbnQuZ2V0RWxlbWVudEJ5SWQob3V0cHV0SWQpOwogIG91dHB1dEVsZW1lbnQuaW5uZXJIVE1MID0gJyc7CgogIGNvbnN0IHBpY2tlZFByb21pc2UgPSBuZXcgUHJvbWlzZSgocmVzb2x2ZSkgPT4gewogICAgaW5wdXRFbGVtZW50LmFkZEV2ZW50TGlzdGVuZXIoJ2NoYW5nZScsIChlKSA9PiB7CiAgICAgIHJlc29sdmUoZS50YXJnZXQuZmlsZXMpOwogICAgfSk7CiAgfSk7CgogIGNvbnN0IGNhbmNlbCA9IGRvY3VtZW50LmNyZWF0ZUVsZW1lbnQoJ2J1dHRvbicpOwogIGlucHV0RWxlbWVudC5wYXJlbnRFbGVtZW50LmFwcGVuZENoaWxkKGNhbmNlbCk7CiAgY2FuY2VsLnRleHRDb250ZW50ID0gJ0NhbmNlbCB1cGxvYWQnOwogIGNvbnN0IGNhbmNlbFByb21pc2UgPSBuZXcgUHJvbWlzZSgocmVzb2x2ZSkgPT4gewogICAgY2FuY2VsLm9uY2xpY2sgPSAoKSA9PiB7CiAgICAgIHJlc29sdmUobnVsbCk7CiAgICB9OwogIH0pOwoKICAvLyBXYWl0IGZvciB0aGUgdXNlciB0byBwaWNrIHRoZSBmaWxlcy4KICBjb25zdCBmaWxlcyA9IHlpZWxkIHsKICAgIHByb21pc2U6IFByb21pc2UucmFjZShbcGlja2VkUHJvbWlzZSwgY2FuY2VsUHJvbWlzZV0pLAogICAgcmVzcG9uc2U6IHsKICAgICAgYWN0aW9uOiAnc3RhcnRpbmcnLAogICAgfQogIH07CgogIGNhbmNlbC5yZW1vdmUoKTsKCiAgLy8gRGlzYWJsZSB0aGUgaW5wdXQgZWxlbWVudCBzaW5jZSBmdXJ0aGVyIHBpY2tzIGFyZSBub3QgYWxsb3dlZC4KICBpbnB1dEVsZW1lbnQuZGlzYWJsZWQgPSB0cnVlOwoKICBpZiAoIWZpbGVzKSB7CiAgICByZXR1cm4gewogICAgICByZXNwb25zZTogewogICAgICAgIGFjdGlvbjogJ2NvbXBsZXRlJywKICAgICAgfQogICAgfTsKICB9CgogIGZvciAoY29uc3QgZmlsZSBvZiBmaWxlcykgewogICAgY29uc3QgbGkgPSBkb2N1bWVudC5jcmVhdGVFbGVtZW50KCdsaScpOwogICAgbGkuYXBwZW5kKHNwYW4oZmlsZS5uYW1lLCB7Zm9udFdlaWdodDogJ2JvbGQnfSkpOwogICAgbGkuYXBwZW5kKHNwYW4oCiAgICAgICAgYCgke2ZpbGUudHlwZSB8fCAnbi9hJ30pIC0gJHtmaWxlLnNpemV9IGJ5dGVzLCBgICsKICAgICAgICBgbGFzdCBtb2RpZmllZDogJHsKICAgICAgICAgICAgZmlsZS5sYXN0TW9kaWZpZWREYXRlID8gZmlsZS5sYXN0TW9kaWZpZWREYXRlLnRvTG9jYWxlRGF0ZVN0cmluZygpIDoKICAgICAgICAgICAgICAgICAgICAgICAgICAgICAgICAgICAgJ24vYSd9IC0gYCkpOwogICAgY29uc3QgcGVyY2VudCA9IHNwYW4oJzAlIGRvbmUnKTsKICAgIGxpLmFwcGVuZENoaWxkKHBlcmNlbnQpOwoKICAgIG91dHB1dEVsZW1lbnQuYXBwZW5kQ2hpbGQobGkpOwoKICAgIGNvbnN0IGZpbGVEYXRhUHJvbWlzZSA9IG5ldyBQcm9taXNlKChyZXNvbHZlKSA9PiB7CiAgICAgIGNvbnN0IHJlYWRlciA9IG5ldyBGaWxlUmVhZGVyKCk7CiAgICAgIHJlYWRlci5vbmxvYWQgPSAoZSkgPT4gewogICAgICAgIHJlc29sdmUoZS50YXJnZXQucmVzdWx0KTsKICAgICAgfTsKICAgICAgcmVhZGVyLnJlYWRBc0FycmF5QnVmZmVyKGZpbGUpOwogICAgfSk7CiAgICAvLyBXYWl0IGZvciB0aGUgZGF0YSB0byBiZSByZWFkeS4KICAgIGxldCBmaWxlRGF0YSA9IHlpZWxkIHsKICAgICAgcHJvbWlzZTogZmlsZURhdGFQcm9taXNlLAogICAgICByZXNwb25zZTogewogICAgICAgIGFjdGlvbjogJ2NvbnRpbnVlJywKICAgICAgfQogICAgfTsKCiAgICAvLyBVc2UgYSBjaHVua2VkIHNlbmRpbmcgdG8gYXZvaWQgbWVzc2FnZSBzaXplIGxpbWl0cy4gU2VlIGIvNjIxMTU2NjAuCiAgICBsZXQgcG9zaXRpb24gPSAwOwogICAgd2hpbGUgKHBvc2l0aW9uIDwgZmlsZURhdGEuYnl0ZUxlbmd0aCkgewogICAgICBjb25zdCBsZW5ndGggPSBNYXRoLm1pbihmaWxlRGF0YS5ieXRlTGVuZ3RoIC0gcG9zaXRpb24sIE1BWF9QQVlMT0FEX1NJWkUpOwogICAgICBjb25zdCBjaHVuayA9IG5ldyBVaW50OEFycmF5KGZpbGVEYXRhLCBwb3NpdGlvbiwgbGVuZ3RoKTsKICAgICAgcG9zaXRpb24gKz0gbGVuZ3RoOwoKICAgICAgY29uc3QgYmFzZTY0ID0gYnRvYShTdHJpbmcuZnJvbUNoYXJDb2RlLmFwcGx5KG51bGwsIGNodW5rKSk7CiAgICAgIHlpZWxkIHsKICAgICAgICByZXNwb25zZTogewogICAgICAgICAgYWN0aW9uOiAnYXBwZW5kJywKICAgICAgICAgIGZpbGU6IGZpbGUubmFtZSwKICAgICAgICAgIGRhdGE6IGJhc2U2NCwKICAgICAgICB9LAogICAgICB9OwogICAgICBwZXJjZW50LnRleHRDb250ZW50ID0KICAgICAgICAgIGAke01hdGgucm91bmQoKHBvc2l0aW9uIC8gZmlsZURhdGEuYnl0ZUxlbmd0aCkgKiAxMDApfSUgZG9uZWA7CiAgICB9CiAgfQoKICAvLyBBbGwgZG9uZS4KICB5aWVsZCB7CiAgICByZXNwb25zZTogewogICAgICBhY3Rpb246ICdjb21wbGV0ZScsCiAgICB9CiAgfTsKfQoKc2NvcGUuZ29vZ2xlID0gc2NvcGUuZ29vZ2xlIHx8IHt9OwpzY29wZS5nb29nbGUuY29sYWIgPSBzY29wZS5nb29nbGUuY29sYWIgfHwge307CnNjb3BlLmdvb2dsZS5jb2xhYi5fZmlsZXMgPSB7CiAgX3VwbG9hZEZpbGVzLAogIF91cGxvYWRGaWxlc0NvbnRpbnVlLAp9Owp9KShzZWxmKTsK",
              "ok": true,
              "headers": [
                [
                  "content-type",
                  "application/javascript"
                ]
              ],
              "status": 200,
              "status_text": ""
            }
          },
          "base_uri": "https://localhost:8080/",
          "height": 72
        },
        "outputId": "7dbea99c-c8d1-491f-e9e8-aac10c6d4fbf"
      },
      "source": [
        "uploadedRespostaMetodo = files.upload()"
      ],
      "execution_count": null,
      "outputs": [
        {
          "output_type": "display_data",
          "data": {
            "text/html": [
              "\n",
              "     <input type=\"file\" id=\"files-1bbcf7a9-5bd1-459a-8a99-24993ac5d40d\" name=\"files[]\" multiple disabled\n",
              "        style=\"border:none\" />\n",
              "     <output id=\"result-1bbcf7a9-5bd1-459a-8a99-24993ac5d40d\">\n",
              "      Upload widget is only available when the cell has been executed in the\n",
              "      current browser session. Please rerun this cell to enable.\n",
              "      </output>\n",
              "      <script src=\"/nbextensions/google.colab/files.js\"></script> "
            ],
            "text/plain": [
              "<IPython.core.display.HTML object>"
            ]
          },
          "metadata": {
            "tags": []
          }
        },
        {
          "output_type": "stream",
          "text": [
            "Saving resposta-metodo-textblob.csv to resposta-metodo-textblob.csv\n"
          ],
          "name": "stdout"
        }
      ]
    },
    {
      "cell_type": "code",
      "metadata": {
        "id": "d05m2-agZurU"
      },
      "source": [
        "resposta_metodo = pd.read_csv(io.BytesIO(uploadedRespostaMetodo['resposta-metodo-textblob.csv']))"
      ],
      "execution_count": null,
      "outputs": []
    },
    {
      "cell_type": "markdown",
      "metadata": {
        "id": "4GtsGuF9Wc7r"
      },
      "source": [
        "> # **2.4.2.1 Resultados**\n",
        "\n"
      ]
    },
    {
      "cell_type": "markdown",
      "metadata": {
        "id": "bK8KQ6usWhFI"
      },
      "source": [
        "Precisão/Revocação/Medida-F para Método de Identificação **da Subjetividade de Sentenças** do TextBlob"
      ]
    },
    {
      "cell_type": "code",
      "metadata": {
        "id": "EDojJI_4vHaF"
      },
      "source": [
        "def imprimir_metricas_subjetividade(subjetividade):\n",
        "  numerador = 0\n",
        "  for k in range(len(resposta_metodo)):\n",
        "    if resposta_metodo['Subjetividade'][k] == subjetividade:\n",
        "      if resposta_metodo['Subjetividade'][k] == gabarito['Subjetividade'][k]:\n",
        "        numerador = numerador + 1\n",
        "\n",
        "  denominador_precisao = len(resposta_metodo.loc[resposta_metodo.Subjetividade == subjetividade])\n",
        "\n",
        "  denominador_revocacao = len(gabarito.loc[gabarito.Subjetividade == subjetividade])\n",
        "\n",
        "  try:\n",
        "    precisao = numerador/denominador_precisao\n",
        "    print(\"Precisão (\",numerador,\"/\",denominador_precisao,\") = \" ,precisao)\n",
        "  except ZeroDivisionError:\n",
        "    print(\"Erro: Divisão por zero. Não foi possível calcular precisão\")  \n",
        "\n",
        "  try:\n",
        "    revocacao = numerador/denominador_revocacao\n",
        "    print(\"Revocação (\",numerador,\"/\",denominador_revocacao,\") = \" ,revocacao)\n",
        "  except ZeroDivisionError:\n",
        "    print(\"Erro: Divisão por zero. Não foi possível calcular revocação\")  \n",
        "\n",
        "  try:\n",
        "    medida_f = (2*precisao*revocacao)/(precisao+revocacao)\n",
        "    print(\"Medida-F = \", medida_f)\n",
        "  except ZeroDivisionError:\n",
        "    print(\"Erro: Divisão por zero. Não foi possível calcular medida-F\")  "
      ],
      "execution_count": null,
      "outputs": []
    },
    {
      "cell_type": "code",
      "metadata": {
        "id": "uM__y9UQvvkk",
        "colab": {
          "base_uri": "https://localhost:8080/"
        },
        "outputId": "ff94dfcf-4320-48cf-8a3c-5b63eab1248d"
      },
      "source": [
        "imprimir_metricas_subjetividade(1)"
      ],
      "execution_count": null,
      "outputs": [
        {
          "output_type": "stream",
          "text": [
            "Precisão ( 132 / 150 ) =  0.88\n",
            "Revocação ( 132 / 161 ) =  0.8198757763975155\n",
            "Medida-F =  0.8488745980707395\n"
          ],
          "name": "stdout"
        }
      ]
    },
    {
      "cell_type": "code",
      "metadata": {
        "id": "2VhQx_cdv5qZ",
        "colab": {
          "base_uri": "https://localhost:8080/"
        },
        "outputId": "f0413810-cfcf-4c6f-faa8-5099d873bb93"
      },
      "source": [
        "imprimir_metricas_subjetividade(0)"
      ],
      "execution_count": null,
      "outputs": [
        {
          "output_type": "stream",
          "text": [
            "Precisão ( 21 / 50 ) =  0.42\n",
            "Revocação ( 21 / 39 ) =  0.5384615384615384\n",
            "Medida-F =  0.4719101123595505\n"
          ],
          "name": "stdout"
        }
      ]
    },
    {
      "cell_type": "markdown",
      "metadata": {
        "id": "klaGmyLtuee8"
      },
      "source": [
        "Precisao / Revocacao / Medida F do Método para identificar **Polaridade de Sentenças**"
      ]
    },
    {
      "cell_type": "code",
      "metadata": {
        "id": "ZHm6mUM3tJXq"
      },
      "source": [
        "def imprimir_metricas_polaridade(polaridade):\n",
        "  numerador = 0\n",
        "  for k in range(len(resposta_metodo)):\n",
        "    if resposta_metodo['Subjetividade'][k] == 1:\n",
        "      if resposta_metodo['Subjetividade'][k] == gabarito['Subjetividade'][k]:\n",
        "        if resposta_metodo['Polaridade'][k] == gabarito['Polaridade'][k]:\n",
        "          if resposta_metodo['Polaridade'][k] == polaridade:      \n",
        "            numerador = numerador + 1\n",
        "\n",
        "  denominador_precisao = len(resposta_metodo.loc[((resposta_metodo.Subjetividade == 1) & (resposta_metodo.Polaridade == polaridade))])\n",
        "\n",
        "  denominador_revocacao = len(gabarito.loc[((gabarito.Subjetividade == 1) & (gabarito.Polaridade == polaridade))])\n",
        "\n",
        "  try:\n",
        "    precisao = numerador/denominador_precisao\n",
        "    print(\"Precisão (\",numerador,\"/\",denominador_precisao,\") = \" ,precisao)\n",
        "  except ZeroDivisionError:\n",
        "    print(\"Erro: Divisão por zero. Não foi possível calcular precisão\")  \n",
        "\n",
        "  try:\n",
        "    revocacao = numerador/denominador_revocacao\n",
        "    print(\"Revocação (\",numerador,\"/\",denominador_revocacao,\") = \" ,revocacao)\n",
        "  except ZeroDivisionError:\n",
        "    print(\"Erro: Divisão por zero. Não foi possível calcular revocação\")  \n",
        "\n",
        "  try:\n",
        "    medida_f = (2*precisao*revocacao)/(precisao+revocacao)\n",
        "    print(\"Medida-F = \", medida_f)\n",
        "  except ZeroDivisionError:\n",
        "    print(\"Erro: Divisão por zero. Não foi possível calcular medida-F\")  "
      ],
      "execution_count": null,
      "outputs": []
    },
    {
      "cell_type": "code",
      "metadata": {
        "id": "JsMnd5MJt-sj",
        "colab": {
          "base_uri": "https://localhost:8080/"
        },
        "outputId": "e341f665-cce6-4861-c050-26a37ed1da0d"
      },
      "source": [
        "imprimir_metricas_polaridade(1)"
      ],
      "execution_count": null,
      "outputs": [
        {
          "output_type": "stream",
          "text": [
            "Precisão ( 97 / 122 ) =  0.7950819672131147\n",
            "Revocação ( 97 / 126 ) =  0.7698412698412699\n",
            "Medida-F =  0.782258064516129\n"
          ],
          "name": "stdout"
        }
      ]
    },
    {
      "cell_type": "code",
      "metadata": {
        "id": "t2cJ1L0vuGI2",
        "colab": {
          "base_uri": "https://localhost:8080/"
        },
        "outputId": "8d538335-0fe8-4de9-f547-0354f08df922"
      },
      "source": [
        "imprimir_metricas_polaridade(-1)"
      ],
      "execution_count": null,
      "outputs": [
        {
          "output_type": "stream",
          "text": [
            "Precisão ( 8 / 20 ) =  0.4\n",
            "Revocação ( 8 / 28 ) =  0.2857142857142857\n",
            "Medida-F =  0.3333333333333333\n"
          ],
          "name": "stdout"
        }
      ]
    },
    {
      "cell_type": "code",
      "metadata": {
        "id": "87Sv6aaDuJO2",
        "colab": {
          "base_uri": "https://localhost:8080/"
        },
        "outputId": "716fa9e4-7125-457e-dbc7-bf9fb6cea5e3"
      },
      "source": [
        "imprimir_metricas_polaridade(0)"
      ],
      "execution_count": null,
      "outputs": [
        {
          "output_type": "stream",
          "text": [
            "Precisão ( 0 / 8 ) =  0.0\n",
            "Revocação ( 0 / 7 ) =  0.0\n",
            "Erro: Divisão por zero. Não foi possível calcular medida-F\n"
          ],
          "name": "stdout"
        }
      ]
    },
    {
      "cell_type": "markdown",
      "metadata": {
        "id": "fcaFF0Gdzy0N"
      },
      "source": [
        "> # **2.4.2.2 Questão 1**\n",
        "\n"
      ]
    },
    {
      "cell_type": "markdown",
      "metadata": {
        "id": "5f15z-pezBUD"
      },
      "source": [
        "O método utilizado para cálculo da subjetividade e polaridade é baseado em tradução de texto do próprio pacote TextBlob. Será que se usarmos outra ferramenta para tradução o resultado seria melhor? Considere, por exemplo, o pacote Google Trans."
      ]
    },
    {
      "cell_type": "code",
      "metadata": {
        "id": "ITh4tLNllD49"
      },
      "source": [
        "gerar_arquivo_reposta_metodo_textBlob(traduzir_googleTrans,lista_sorteadas,\"resposta-metodo-google-trans.csv\")"
      ],
      "execution_count": null,
      "outputs": []
    },
    {
      "cell_type": "code",
      "metadata": {
        "colab": {
          "resources": {
            "http://localhost:8080/nbextensions/google.colab/files.js": {
              "data": "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",
              "ok": true,
              "headers": [
                [
                  "content-type",
                  "application/javascript"
                ]
              ],
              "status": 200,
              "status_text": ""
            }
          },
          "base_uri": "https://localhost:8080/",
          "height": 72
        },
        "id": "8_mGM4CB6jpP",
        "outputId": "9016231e-38d8-486a-c8a7-06f5f4f498d0"
      },
      "source": [
        "uploadedRespostaMetodo = files.upload()"
      ],
      "execution_count": null,
      "outputs": [
        {
          "output_type": "display_data",
          "data": {
            "text/html": [
              "\n",
              "     <input type=\"file\" id=\"files-78e19119-90a2-496e-8bc4-50939cd0216a\" name=\"files[]\" multiple disabled\n",
              "        style=\"border:none\" />\n",
              "     <output id=\"result-78e19119-90a2-496e-8bc4-50939cd0216a\">\n",
              "      Upload widget is only available when the cell has been executed in the\n",
              "      current browser session. Please rerun this cell to enable.\n",
              "      </output>\n",
              "      <script src=\"/nbextensions/google.colab/files.js\"></script> "
            ],
            "text/plain": [
              "<IPython.core.display.HTML object>"
            ]
          },
          "metadata": {
            "tags": []
          }
        },
        {
          "output_type": "stream",
          "text": [
            "Saving resposta-metodo-google-trans.csv to resposta-metodo-google-trans.csv\n"
          ],
          "name": "stdout"
        }
      ]
    },
    {
      "cell_type": "code",
      "metadata": {
        "id": "ndEwTGHA6rOw"
      },
      "source": [
        "resposta_metodo = pd.read_csv(io.BytesIO(uploadedRespostaMetodo['resposta-metodo-google-trans.csv']))"
      ],
      "execution_count": null,
      "outputs": []
    },
    {
      "cell_type": "code",
      "metadata": {
        "colab": {
          "base_uri": "https://localhost:8080/"
        },
        "id": "AvwmuowA67SO",
        "outputId": "65c89bc1-ce3c-4c21-a4d2-f32c06c16c5e"
      },
      "source": [
        "imprimir_metricas_subjetividade(1)"
      ],
      "execution_count": null,
      "outputs": [
        {
          "output_type": "stream",
          "text": [
            "Precisão ( 131 / 150 ) =  0.8733333333333333\n",
            "Revocação ( 131 / 161 ) =  0.8136645962732919\n",
            "Medida-F =  0.8424437299035369\n"
          ],
          "name": "stdout"
        }
      ]
    },
    {
      "cell_type": "code",
      "metadata": {
        "colab": {
          "base_uri": "https://localhost:8080/"
        },
        "id": "wAzIGge-68KR",
        "outputId": "b88e7007-1f35-4648-80a1-f520746c5cf2"
      },
      "source": [
        "imprimir_metricas_subjetividade(0)"
      ],
      "execution_count": null,
      "outputs": [
        {
          "output_type": "stream",
          "text": [
            "Precisão ( 20 / 50 ) =  0.4\n",
            "Revocação ( 20 / 39 ) =  0.5128205128205128\n",
            "Medida-F =  0.449438202247191\n"
          ],
          "name": "stdout"
        }
      ]
    },
    {
      "cell_type": "code",
      "metadata": {
        "colab": {
          "base_uri": "https://localhost:8080/"
        },
        "id": "hmzbGXf7695c",
        "outputId": "ff1a11a9-c832-4b58-81a0-913efcc1547a"
      },
      "source": [
        "imprimir_metricas_polaridade(1)"
      ],
      "execution_count": null,
      "outputs": [
        {
          "output_type": "stream",
          "text": [
            "Precisão ( 99 / 124 ) =  0.7983870967741935\n",
            "Revocação ( 99 / 126 ) =  0.7857142857142857\n",
            "Medida-F =  0.792\n"
          ],
          "name": "stdout"
        }
      ]
    },
    {
      "cell_type": "code",
      "metadata": {
        "colab": {
          "base_uri": "https://localhost:8080/"
        },
        "id": "4P7EdHHm7Cwu",
        "outputId": "aea10a00-4df5-49ee-f6a0-c3c9450ebe79"
      },
      "source": [
        "imprimir_metricas_polaridade(-1)"
      ],
      "execution_count": null,
      "outputs": [
        {
          "output_type": "stream",
          "text": [
            "Precisão ( 8 / 20 ) =  0.4\n",
            "Revocação ( 8 / 28 ) =  0.2857142857142857\n",
            "Medida-F =  0.3333333333333333\n"
          ],
          "name": "stdout"
        }
      ]
    },
    {
      "cell_type": "code",
      "metadata": {
        "colab": {
          "base_uri": "https://localhost:8080/"
        },
        "id": "4Rscr2O67ERW",
        "outputId": "c55bfe79-c95c-4280-be69-833ee83b159a"
      },
      "source": [
        "imprimir_metricas_polaridade(0)"
      ],
      "execution_count": null,
      "outputs": [
        {
          "output_type": "stream",
          "text": [
            "Precisão ( 1 / 6 ) =  0.16666666666666666\n",
            "Revocação ( 1 / 7 ) =  0.14285714285714285\n",
            "Medida-F =  0.15384615384615383\n"
          ],
          "name": "stdout"
        }
      ]
    },
    {
      "cell_type": "markdown",
      "metadata": {
        "id": "og_6aEAiELN0"
      },
      "source": [
        "># **2.4.2.3 Comparações**\n",
        "\n"
      ]
    },
    {
      "cell_type": "markdown",
      "metadata": {
        "id": "8FQPjAT78iKV"
      },
      "source": [
        "![resumo-metricas.PNG](data:image/png;base64,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)"
      ]
    },
    {
      "cell_type": "markdown",
      "metadata": {
        "id": "Pzoe5TZ2hwBG"
      },
      "source": [
        "# **2.5 - Visão Temporal**"
      ]
    },
    {
      "cell_type": "code",
      "metadata": {
        "id": "k5Nr5jGYtG_q"
      },
      "source": [
        "portuguese_dataset['weekday'] = 'NaN'\n",
        "for i in range(TAM_DATASET):\n",
        "  dataPublicacao = datetime.strptime(portuguese_dataset['publicationDate'][i], '%d/%m/%Y')\n",
        "  portuguese_dataset['weekday'][i] = str(dataPublicacao.weekday()) + \" - \" + dataPublicacao.strftime('%A')"
      ],
      "execution_count": null,
      "outputs": []
    },
    {
      "cell_type": "code",
      "metadata": {
        "colab": {
          "base_uri": "https://localhost:8080/",
          "height": 376
        },
        "id": "Nkys6eqpx7xy",
        "outputId": "218fe7bf-669a-4698-cabc-76c0b765076d"
      },
      "source": [
        "portuguese_dataset.groupby('weekday').weekday.count().plot(kind=\"bar\", title='Qual dia da semana há mais publicações?', xlabel='Dia da semana',ylabel='Qtde de Publicações')"
      ],
      "execution_count": null,
      "outputs": [
        {
          "output_type": "execute_result",
          "data": {
            "text/plain": [
              "<matplotlib.axes._subplots.AxesSubplot at 0x7efcca0be828>"
            ]
          },
          "metadata": {
            "tags": []
          },
          "execution_count": 103
        },
        {
          "output_type": "display_data",
          "data": {
            "image/png": "[encoded data removed]",
            "text/plain": [
              "<Figure size 432x288 with 1 Axes>"
            ]
          },
          "metadata": {
            "tags": [],
            "needs_background": "light"
          }
        }
      ]
    },
    {
      "cell_type": "markdown",
      "metadata": {
        "id": "1iyctoKUiVeH"
      },
      "source": [
        "# **2.6 - Visão Geográfica**"
      ]
    },
    {
      "cell_type": "code",
      "metadata": {
        "colab": {
          "base_uri": "https://localhost:8080/"
        },
        "id": "yJLTJxnUwbLs",
        "outputId": "9b1c2c92-7f02-4a2d-ad8b-5c47ab89be2a"
      },
      "source": [
        "portuguese_dataset['itemReviewed'][0]"
      ],
      "execution_count": null,
      "outputs": [
        {
          "output_type": "execute_result",
          "data": {
            "text/plain": [
              "{'address': {'addressLocality': '',\n",
              "  'addressRegion': 'Alagoas',\n",
              "  'country': 'Brasil',\n",
              "  'postalCode': '57030-170',\n",
              "  'streetAddress': 'Avenida Doutor Antônio Gouveia'},\n",
              " 'averageRating': '4.5',\n",
              " 'email': 'contato@imperadordoscamaroes.com.br',\n",
              " 'name': 'Imperador dos Camarões',\n",
              " 'phoneNumber': '+55 82 3231-4134',\n",
              " 'website': 'http://www.imperadordoscamaroes.com.br'}"
            ]
          },
          "metadata": {
            "tags": []
          },
          "execution_count": 6
        }
      ]
    },
    {
      "cell_type": "code",
      "metadata": {
        "id": "UDFSsOdeEkpj"
      },
      "source": [
        "portuguese_dataset['estado'] = 'NaN'\n",
        "portuguese_dataset['CEP'] = 'NaN'\n",
        "for i in range(TAM_DATASET):\n",
        "  dados = portuguese_dataset['itemReviewed'][i]\n",
        "\n",
        "  dataF = pd.DataFrame(dados)\n",
        "  portuguese_dataset['estado'][i] = dataF['address'][1]\n",
        "  portuguese_dataset['CEP'][i] = dataF['address'][3]\n"
      ],
      "execution_count": null,
      "outputs": []
    },
    {
      "cell_type": "code",
      "metadata": {
        "colab": {
          "base_uri": "https://localhost:8080/"
        },
        "id": "NXNj_vlV7bvm",
        "outputId": "9bcccd46-d625-4581-e753-85c156bfc8e1"
      },
      "source": [
        "portuguese_dataset['estado'].value_counts()"
      ],
      "execution_count": null,
      "outputs": [
        {
          "output_type": "execute_result",
          "data": {
            "text/plain": [
              "Estado de São Paulo         17455\n",
              "Estado do Rio de Janeiro    10583\n",
              "Rio Grande do Norte          7075\n",
              "Ceará                        6206\n",
              "Bahia                        6030\n",
              "Pernambuco                   5986\n",
              "Rio Grande do Sul            5814\n",
              "Minas Gerais                 5476\n",
              "Alagoas                      4526\n",
              "Paraíba                      4440\n",
              "Goiás                        3666\n",
              "Distrito Federal             3547\n",
              "Sergipe                      2616\n",
              "Pará                         2414\n",
              "Maranhão                     2097\n",
              "Paraná                       2017\n",
              "Mato Grosso do Sul           2004\n",
              "Mato Grosso                  1795\n",
              "Rio Amazonas                 1506\n",
              "Espírito Santo               1189\n",
              "Piauí                        1022\n",
              "Rondônia                      702\n",
              "Tocantins                     539\n",
              "Acre                          429\n",
              "Amapá                         422\n",
              "Roraima                       368\n",
              "Santa Catarina                 76\n",
              "Name: estado, dtype: int64"
            ]
          },
          "metadata": {
            "tags": []
          },
          "execution_count": 104
        }
      ]
    },
    {
      "cell_type": "code",
      "metadata": {
        "colab": {
          "base_uri": "https://localhost:8080/",
          "height": 424
        },
        "id": "S_68sejMyy8A",
        "outputId": "f0f3b811-0d12-49c3-a2fd-354ba1042f52"
      },
      "source": [
        "portuguese_dataset['estado'].value_counts().sort_values(ascending=False).plot(kind='bar', title='Distribuição dos Reviews por Estado', xlabel='Estado',ylabel='Qtde de Reviews')"
      ],
      "execution_count": null,
      "outputs": [
        {
          "output_type": "execute_result",
          "data": {
            "text/plain": [
              "<matplotlib.axes._subplots.AxesSubplot at 0x7ff0da2972b0>"
            ]
          },
          "metadata": {
            "tags": []
          },
          "execution_count": 10
        },
        {
          "output_type": "display_data",
          "data": {
            "image/png": "[encoded data removed]",
            "text/plain": [
              "<Figure size 432x288 with 1 Axes>"
            ]
          },
          "metadata": {
            "tags": [],
            "needs_background": "light"
          }
        }
      ]
    },
    {
      "cell_type": "markdown",
      "metadata": {
        "id": "qGE4338155zg"
      },
      "source": [
        "**Hipóteses para essa distribuição:**\n",
        "\n",
        "Acreditamos que essa distribuição está relacioanada a quantidade de restaurantes existentes no estado (quanto mais restaurantes, maior a possibilidade de alguém deixar um comentário) e, por consequência, quantidade de restaurantes está relacionada ao tamanho da população do estado/capital, ao fato de ser uma cidade mais ou menos turística.\n",
        "\n",
        "No topo da distribuição temos: São Paulo e Rio de Janeiro. São Paulo tem a maior população do Brasil, talvez um dos maiores centros econômicos da América do Sul. E Rio de Janeiro é a cidade mais turística do Brasil.\n",
        "\n",
        "Os restarantes localizados em Santa Catarina tem a menor quantidade de comentários, possivelmente porque a Capital Florianópolis é uma capital pequena com somente 500 mil habitantes. \n"
      ]
    },
    {
      "cell_type": "markdown",
      "metadata": {
        "id": "neSCqIfmERCF"
      },
      "source": [
        "**Os usuários de estados diferentes são\n",
        "mais ou menos rigorosos na avaliação dos restaurantes?**"
      ]
    },
    {
      "cell_type": "code",
      "metadata": {
        "colab": {
          "base_uri": "https://localhost:8080/",
          "height": 917
        },
        "id": "ahqdKbJGuCXE",
        "outputId": "28960fd9-ec91-4d31-b63a-f16ba541c87a"
      },
      "source": [
        "grouped = portuguese_dataset[['ratingValue']].groupby(portuguese_dataset['estado'])\n",
        "grouped.mean().sort_values(by='ratingValue',ascending=False)"
      ],
      "execution_count": null,
      "outputs": [
        {
          "output_type": "execute_result",
          "data": {
            "text/html": [
              "<div>\n",
              "<style scoped>\n",
              "    .dataframe tbody tr th:only-of-type {\n",
              "        vertical-align: middle;\n",
              "    }\n",
              "\n",
              "    .dataframe tbody tr th {\n",
              "        vertical-align: top;\n",
              "    }\n",
              "\n",
              "    .dataframe thead th {\n",
              "        text-align: right;\n",
              "    }\n",
              "</style>\n",
              "<table border=\"1\" class=\"dataframe\">\n",
              "  <thead>\n",
              "    <tr style=\"text-align: right;\">\n",
              "      <th></th>\n",
              "      <th>ratingValue</th>\n",
              "    </tr>\n",
              "    <tr>\n",
              "      <th>estado</th>\n",
              "      <th></th>\n",
              "    </tr>\n",
              "  </thead>\n",
              "  <tbody>\n",
              "    <tr>\n",
              "      <th>Ceará</th>\n",
              "      <td>4.492749</td>\n",
              "    </tr>\n",
              "    <tr>\n",
              "      <th>Rio Grande do Norte</th>\n",
              "      <td>4.416113</td>\n",
              "    </tr>\n",
              "    <tr>\n",
              "      <th>Paraná</th>\n",
              "      <td>4.400595</td>\n",
              "    </tr>\n",
              "    <tr>\n",
              "      <th>Alagoas</th>\n",
              "      <td>4.374503</td>\n",
              "    </tr>\n",
              "    <tr>\n",
              "      <th>Mato Grosso do Sul</th>\n",
              "      <td>4.340319</td>\n",
              "    </tr>\n",
              "    <tr>\n",
              "      <th>Rio Amazonas</th>\n",
              "      <td>4.297477</td>\n",
              "    </tr>\n",
              "    <tr>\n",
              "      <th>Paraíba</th>\n",
              "      <td>4.296171</td>\n",
              "    </tr>\n",
              "    <tr>\n",
              "      <th>Maranhão</th>\n",
              "      <td>4.294230</td>\n",
              "    </tr>\n",
              "    <tr>\n",
              "      <th>Pará</th>\n",
              "      <td>4.293289</td>\n",
              "    </tr>\n",
              "    <tr>\n",
              "      <th>Mato Grosso</th>\n",
              "      <td>4.283565</td>\n",
              "    </tr>\n",
              "    <tr>\n",
              "      <th>Pernambuco</th>\n",
              "      <td>4.282660</td>\n",
              "    </tr>\n",
              "    <tr>\n",
              "      <th>Piauí</th>\n",
              "      <td>4.277886</td>\n",
              "    </tr>\n",
              "    <tr>\n",
              "      <th>Espírito Santo</th>\n",
              "      <td>4.265770</td>\n",
              "    </tr>\n",
              "    <tr>\n",
              "      <th>Roraima</th>\n",
              "      <td>4.252717</td>\n",
              "    </tr>\n",
              "    <tr>\n",
              "      <th>Rio Grande do Sul</th>\n",
              "      <td>4.248366</td>\n",
              "    </tr>\n",
              "    <tr>\n",
              "      <th>Minas Gerais</th>\n",
              "      <td>4.238313</td>\n",
              "    </tr>\n",
              "    <tr>\n",
              "      <th>Amapá</th>\n",
              "      <td>4.234597</td>\n",
              "    </tr>\n",
              "    <tr>\n",
              "      <th>Goiás</th>\n",
              "      <td>4.231315</td>\n",
              "    </tr>\n",
              "    <tr>\n",
              "      <th>Acre</th>\n",
              "      <td>4.193473</td>\n",
              "    </tr>\n",
              "    <tr>\n",
              "      <th>Rondônia</th>\n",
              "      <td>4.192308</td>\n",
              "    </tr>\n",
              "    <tr>\n",
              "      <th>Bahia</th>\n",
              "      <td>4.187065</td>\n",
              "    </tr>\n",
              "    <tr>\n",
              "      <th>Sergipe</th>\n",
              "      <td>4.173165</td>\n",
              "    </tr>\n",
              "    <tr>\n",
              "      <th>Estado do Rio de Janeiro</th>\n",
              "      <td>4.170368</td>\n",
              "    </tr>\n",
              "    <tr>\n",
              "      <th>Distrito Federal</th>\n",
              "      <td>4.167184</td>\n",
              "    </tr>\n",
              "    <tr>\n",
              "      <th>Tocantins</th>\n",
              "      <td>4.155844</td>\n",
              "    </tr>\n",
              "    <tr>\n",
              "      <th>Estado de São Paulo</th>\n",
              "      <td>4.147178</td>\n",
              "    </tr>\n",
              "    <tr>\n",
              "      <th>Santa Catarina</th>\n",
              "      <td>4.078947</td>\n",
              "    </tr>\n",
              "  </tbody>\n",
              "</table>\n",
              "</div>"
            ],
            "text/plain": [
              "                          ratingValue\n",
              "estado                               \n",
              "Ceará                        4.492749\n",
              "Rio Grande do Norte          4.416113\n",
              "Paraná                       4.400595\n",
              "Alagoas                      4.374503\n",
              "Mato Grosso do Sul           4.340319\n",
              "Rio Amazonas                 4.297477\n",
              "Paraíba                      4.296171\n",
              "Maranhão                     4.294230\n",
              "Pará                         4.293289\n",
              "Mato Grosso                  4.283565\n",
              "Pernambuco                   4.282660\n",
              "Piauí                        4.277886\n",
              "Espírito Santo               4.265770\n",
              "Roraima                      4.252717\n",
              "Rio Grande do Sul            4.248366\n",
              "Minas Gerais                 4.238313\n",
              "Amapá                        4.234597\n",
              "Goiás                        4.231315\n",
              "Acre                         4.193473\n",
              "Rondônia                     4.192308\n",
              "Bahia                        4.187065\n",
              "Sergipe                      4.173165\n",
              "Estado do Rio de Janeiro     4.170368\n",
              "Distrito Federal             4.167184\n",
              "Tocantins                    4.155844\n",
              "Estado de São Paulo          4.147178\n",
              "Santa Catarina               4.078947"
            ]
          },
          "metadata": {
            "tags": []
          },
          "execution_count": 8
        }
      ]
    },
    {
      "cell_type": "code",
      "metadata": {
        "id": "Qkvv4FRjNbJM",
        "colab": {
          "base_uri": "https://localhost:8080/",
          "height": 1000
        },
        "outputId": "928e664e-1c72-4cb0-fdef-7d1f856b76ff"
      },
      "source": [
        "def get_endereco(i):\n",
        "  dados = portuguese_dataset['itemReviewed'][i]\n",
        "  dataF = pd.DataFrame(dados)\n",
        "  return dataF['address'][4] + \" - \" + dataF['address'][1]\n",
        "\n",
        "listaEnderecos = []\n",
        "listaLatitude = []\n",
        "listaLongitude = []\n",
        "\n",
        "df = pd.DataFrame({'address':[],'latitude':[], 'longitude':[]})\n",
        "\n",
        "geolocator = Nominatim(user_agent=\"analise_sent_app\") \n",
        "\n",
        "for i in (range(TAM_DATASET)):\n",
        "  if portuguese_dataset['estado'][i] == 'Santa Catarina':  \n",
        "    geocode = RateLimiter(geolocator.geocode, min_delay_seconds=1)\n",
        "    endereco = get_endereco(i)\n",
        "      \n",
        "    if (endereco != \"\"):\n",
        "      location = geocode(endereco)\n",
        "\n",
        "      if hasattr(location, 'longitude') and hasattr(location, 'latitude'):\n",
        "        listaEnderecos.append(endereco)\n",
        "        listaLatitude.append(location.latitude)\n",
        "        listaLongitude.append(location.longitude)\n",
        "\n",
        "df.address = listaEnderecos\n",
        "df.latitude = listaLatitude\n",
        "df.longitude = listaLongitude\n",
        "df"
      ],
      "execution_count": null,
      "outputs": [
        {
          "output_type": "execute_result",
          "data": {
            "text/html": [
              "<div>\n",
              "<style scoped>\n",
              "    .dataframe tbody tr th:only-of-type {\n",
              "        vertical-align: middle;\n",
              "    }\n",
              "\n",
              "    .dataframe tbody tr th {\n",
              "        vertical-align: top;\n",
              "    }\n",
              "\n",
              "    .dataframe thead th {\n",
              "        text-align: right;\n",
              "    }\n",
              "</style>\n",
              "<table border=\"1\" class=\"dataframe\">\n",
              "  <thead>\n",
              "    <tr style=\"text-align: right;\">\n",
              "      <th></th>\n",
              "      <th>address</th>\n",
              "      <th>latitude</th>\n",
              "      <th>longitude</th>\n",
              "    </tr>\n",
              "  </thead>\n",
              "  <tbody>\n",
              "    <tr>\n",
              "      <th>0</th>\n",
              "      <td>Rua Adolfo Melo 82 - Santa Catarina</td>\n",
              "      <td>-27.593368</td>\n",
              "      <td>-48.551818</td>\n",
              "    </tr>\n",
              "    <tr>\n",
              "      <th>1</th>\n",
              "      <td>Rua  Lauro Linhares 624 - Santa Catarina</td>\n",
              "      <td>-27.586795</td>\n",
              "      <td>-48.524600</td>\n",
              "    </tr>\n",
              "    <tr>\n",
              "      <th>2</th>\n",
              "      <td>Avenida Madre Benvenuta 1168 - Santa Catarina</td>\n",
              "      <td>-27.590316</td>\n",
              "      <td>-48.509964</td>\n",
              "    </tr>\n",
              "    <tr>\n",
              "      <th>3</th>\n",
              "      <td>Rua Professor Bento Aguido Vieira 20 Trindade ...</td>\n",
              "      <td>-27.588742</td>\n",
              "      <td>-48.520829</td>\n",
              "    </tr>\n",
              "    <tr>\n",
              "      <th>4</th>\n",
              "      <td>Avenida Afonso Delambert Neto 103 Lagoa da Con...</td>\n",
              "      <td>-27.601453</td>\n",
              "      <td>-48.472342</td>\n",
              "    </tr>\n",
              "    <tr>\n",
              "      <th>5</th>\n",
              "      <td>Avenida Pequeno Príncipe, 2676 - Santa Catarina</td>\n",
              "      <td>-27.670660</td>\n",
              "      <td>-48.505288</td>\n",
              "    </tr>\n",
              "    <tr>\n",
              "      <th>6</th>\n",
              "      <td>Rua Professor Bento Aguido Vieira 20 Trindade ...</td>\n",
              "      <td>-27.588742</td>\n",
              "      <td>-48.520829</td>\n",
              "    </tr>\n",
              "    <tr>\n",
              "      <th>7</th>\n",
              "      <td>Sc-403,3104 - Santa Catarina</td>\n",
              "      <td>-27.000186</td>\n",
              "      <td>-51.417184</td>\n",
              "    </tr>\n",
              "    <tr>\n",
              "      <th>8</th>\n",
              "      <td>Rua Professor Bento Aguido Vieira 20 Trindade ...</td>\n",
              "      <td>-27.588742</td>\n",
              "      <td>-48.520829</td>\n",
              "    </tr>\n",
              "    <tr>\n",
              "      <th>9</th>\n",
              "      <td>Avenida das Raias, 1760 - Santa Catarina</td>\n",
              "      <td>-27.442152</td>\n",
              "      <td>-48.501246</td>\n",
              "    </tr>\n",
              "    <tr>\n",
              "      <th>10</th>\n",
              "      <td>Avenida das Raias, 1760 - Santa Catarina</td>\n",
              "      <td>-27.442152</td>\n",
              "      <td>-48.501246</td>\n",
              "    </tr>\n",
              "    <tr>\n",
              "      <th>11</th>\n",
              "      <td>Rodovia Jornalista Manoel de Menezes, 631 Prai...</td>\n",
              "      <td>-27.587959</td>\n",
              "      <td>-48.436142</td>\n",
              "    </tr>\n",
              "    <tr>\n",
              "      <th>12</th>\n",
              "      <td>Rodovia Jornalista Mauricio Sirotsky Sobrinho ...</td>\n",
              "      <td>-27.482276</td>\n",
              "      <td>-48.492497</td>\n",
              "    </tr>\n",
              "    <tr>\n",
              "      <th>13</th>\n",
              "      <td>Rua Professor Bento Aguido Vieira 20 Trindade ...</td>\n",
              "      <td>-27.588742</td>\n",
              "      <td>-48.520829</td>\n",
              "    </tr>\n",
              "    <tr>\n",
              "      <th>14</th>\n",
              "      <td>Rua Peixe Rei 210 - Santa Catarina</td>\n",
              "      <td>-28.143367</td>\n",
              "      <td>-48.673595</td>\n",
              "    </tr>\n",
              "    <tr>\n",
              "      <th>15</th>\n",
              "      <td>Rodovia Jornalista Manoel de Menezes, 631 Prai...</td>\n",
              "      <td>-27.587959</td>\n",
              "      <td>-48.436142</td>\n",
              "    </tr>\n",
              "    <tr>\n",
              "      <th>16</th>\n",
              "      <td>Rua Peixe Rei 210 - Santa Catarina</td>\n",
              "      <td>-28.143367</td>\n",
              "      <td>-48.673595</td>\n",
              "    </tr>\n",
              "    <tr>\n",
              "      <th>17</th>\n",
              "      <td>Avenida Pequeno Príncipe, 2676 - Santa Catarina</td>\n",
              "      <td>-27.670660</td>\n",
              "      <td>-48.505288</td>\n",
              "    </tr>\n",
              "    <tr>\n",
              "      <th>18</th>\n",
              "      <td>Avenida Madre Benvenuta 1168 - Santa Catarina</td>\n",
              "      <td>-27.590316</td>\n",
              "      <td>-48.509964</td>\n",
              "    </tr>\n",
              "    <tr>\n",
              "      <th>19</th>\n",
              "      <td>Rodovia Jornalista Manoel de Menezes, 631 Prai...</td>\n",
              "      <td>-27.587959</td>\n",
              "      <td>-48.436142</td>\n",
              "    </tr>\n",
              "    <tr>\n",
              "      <th>20</th>\n",
              "      <td>Avenida Madre Benvenuta 1168 - Santa Catarina</td>\n",
              "      <td>-27.590316</td>\n",
              "      <td>-48.509964</td>\n",
              "    </tr>\n",
              "    <tr>\n",
              "      <th>21</th>\n",
              "      <td>Avenida Pequeno Príncipe, 2676 - Santa Catarina</td>\n",
              "      <td>-27.670660</td>\n",
              "      <td>-48.505288</td>\n",
              "    </tr>\n",
              "    <tr>\n",
              "      <th>22</th>\n",
              "      <td>Rua Intendente Joao Nunes Vieira 1335 Ingleses...</td>\n",
              "      <td>-27.436840</td>\n",
              "      <td>-48.392645</td>\n",
              "    </tr>\n",
              "    <tr>\n",
              "      <th>23</th>\n",
              "      <td>Avenida Afonso Delambert Neto 103 Lagoa da Con...</td>\n",
              "      <td>-27.601453</td>\n",
              "      <td>-48.472342</td>\n",
              "    </tr>\n",
              "    <tr>\n",
              "      <th>24</th>\n",
              "      <td>Rodovia Jornalista Manoel de Menezes, 631 Prai...</td>\n",
              "      <td>-27.587959</td>\n",
              "      <td>-48.436142</td>\n",
              "    </tr>\n",
              "    <tr>\n",
              "      <th>25</th>\n",
              "      <td>Avenida Pequeno Príncipe, 2676 - Santa Catarina</td>\n",
              "      <td>-27.670660</td>\n",
              "      <td>-48.505288</td>\n",
              "    </tr>\n",
              "    <tr>\n",
              "      <th>26</th>\n",
              "      <td>Rua Peixe Rei 210 - Santa Catarina</td>\n",
              "      <td>-28.143367</td>\n",
              "      <td>-48.673595</td>\n",
              "    </tr>\n",
              "    <tr>\n",
              "      <th>27</th>\n",
              "      <td>Avenida Afonso Delambert Neto 103 Lagoa da Con...</td>\n",
              "      <td>-27.601453</td>\n",
              "      <td>-48.472342</td>\n",
              "    </tr>\n",
              "    <tr>\n",
              "      <th>28</th>\n",
              "      <td>Rua Professor Bento Aguido Vieira 20 Trindade ...</td>\n",
              "      <td>-27.588742</td>\n",
              "      <td>-48.520829</td>\n",
              "    </tr>\n",
              "    <tr>\n",
              "      <th>29</th>\n",
              "      <td>Rua Lauro Linhares 1346 - Santa Catarina</td>\n",
              "      <td>-27.579446</td>\n",
              "      <td>-48.526110</td>\n",
              "    </tr>\n",
              "    <tr>\n",
              "      <th>30</th>\n",
              "      <td>Avenida das Raias, 1760 - Santa Catarina</td>\n",
              "      <td>-27.442152</td>\n",
              "      <td>-48.501246</td>\n",
              "    </tr>\n",
              "    <tr>\n",
              "      <th>31</th>\n",
              "      <td>Rua  Lauro Linhares 624 - Santa Catarina</td>\n",
              "      <td>-27.586795</td>\n",
              "      <td>-48.524600</td>\n",
              "    </tr>\n",
              "    <tr>\n",
              "      <th>32</th>\n",
              "      <td>Rodovia Jornalista Mauricio Sirotsky Sobrinho ...</td>\n",
              "      <td>-27.482276</td>\n",
              "      <td>-48.492497</td>\n",
              "    </tr>\n",
              "    <tr>\n",
              "      <th>33</th>\n",
              "      <td>Rua Professor Bento Aguido Vieira 20 Trindade ...</td>\n",
              "      <td>-27.588742</td>\n",
              "      <td>-48.520829</td>\n",
              "    </tr>\n",
              "  </tbody>\n",
              "</table>\n",
              "</div>"
            ],
            "text/plain": [
              "                                              address   latitude  longitude\n",
              "0                 Rua Adolfo Melo 82 - Santa Catarina -27.593368 -48.551818\n",
              "1            Rua  Lauro Linhares 624 - Santa Catarina -27.586795 -48.524600\n",
              "2       Avenida Madre Benvenuta 1168 - Santa Catarina -27.590316 -48.509964\n",
              "3   Rua Professor Bento Aguido Vieira 20 Trindade ... -27.588742 -48.520829\n",
              "4   Avenida Afonso Delambert Neto 103 Lagoa da Con... -27.601453 -48.472342\n",
              "5     Avenida Pequeno Príncipe, 2676 - Santa Catarina -27.670660 -48.505288\n",
              "6   Rua Professor Bento Aguido Vieira 20 Trindade ... -27.588742 -48.520829\n",
              "7                        Sc-403,3104 - Santa Catarina -27.000186 -51.417184\n",
              "8   Rua Professor Bento Aguido Vieira 20 Trindade ... -27.588742 -48.520829\n",
              "9            Avenida das Raias, 1760 - Santa Catarina -27.442152 -48.501246\n",
              "10           Avenida das Raias, 1760 - Santa Catarina -27.442152 -48.501246\n",
              "11  Rodovia Jornalista Manoel de Menezes, 631 Prai... -27.587959 -48.436142\n",
              "12  Rodovia Jornalista Mauricio Sirotsky Sobrinho ... -27.482276 -48.492497\n",
              "13  Rua Professor Bento Aguido Vieira 20 Trindade ... -27.588742 -48.520829\n",
              "14                 Rua Peixe Rei 210 - Santa Catarina -28.143367 -48.673595\n",
              "15  Rodovia Jornalista Manoel de Menezes, 631 Prai... -27.587959 -48.436142\n",
              "16                 Rua Peixe Rei 210 - Santa Catarina -28.143367 -48.673595\n",
              "17    Avenida Pequeno Príncipe, 2676 - Santa Catarina -27.670660 -48.505288\n",
              "18      Avenida Madre Benvenuta 1168 - Santa Catarina -27.590316 -48.509964\n",
              "19  Rodovia Jornalista Manoel de Menezes, 631 Prai... -27.587959 -48.436142\n",
              "20      Avenida Madre Benvenuta 1168 - Santa Catarina -27.590316 -48.509964\n",
              "21    Avenida Pequeno Príncipe, 2676 - Santa Catarina -27.670660 -48.505288\n",
              "22  Rua Intendente Joao Nunes Vieira 1335 Ingleses... -27.436840 -48.392645\n",
              "23  Avenida Afonso Delambert Neto 103 Lagoa da Con... -27.601453 -48.472342\n",
              "24  Rodovia Jornalista Manoel de Menezes, 631 Prai... -27.587959 -48.436142\n",
              "25    Avenida Pequeno Príncipe, 2676 - Santa Catarina -27.670660 -48.505288\n",
              "26                 Rua Peixe Rei 210 - Santa Catarina -28.143367 -48.673595\n",
              "27  Avenida Afonso Delambert Neto 103 Lagoa da Con... -27.601453 -48.472342\n",
              "28  Rua Professor Bento Aguido Vieira 20 Trindade ... -27.588742 -48.520829\n",
              "29           Rua Lauro Linhares 1346 - Santa Catarina -27.579446 -48.526110\n",
              "30           Avenida das Raias, 1760 - Santa Catarina -27.442152 -48.501246\n",
              "31           Rua  Lauro Linhares 624 - Santa Catarina -27.586795 -48.524600\n",
              "32  Rodovia Jornalista Mauricio Sirotsky Sobrinho ... -27.482276 -48.492497\n",
              "33  Rua Professor Bento Aguido Vieira 20 Trindade ... -27.588742 -48.520829"
            ]
          },
          "metadata": {
            "tags": []
          },
          "execution_count": 46
        }
      ]
    },
    {
      "cell_type": "code",
      "metadata": {
        "id": "y74z0Y0E9BFK"
      },
      "source": [
        "gdf = geopandas.GeoDataFrame(df, geometry=geopandas.points_from_xy(df.longitude, df.latitude))"
      ],
      "execution_count": null,
      "outputs": []
    },
    {
      "cell_type": "code",
      "metadata": {
        "id": "QUPnIyyBZdyr"
      },
      "source": [
        "world = geopandas.read_file(geopandas.datasets.get_path('naturalearth_lowres'))"
      ],
      "execution_count": null,
      "outputs": []
    },
    {
      "cell_type": "code",
      "metadata": {
        "colab": {
          "base_uri": "https://localhost:8080/",
          "height": 483
        },
        "id": "YFtS2tG7Zg8M",
        "outputId": "72f2ff20-9230-40da-d858-79468652dd07"
      },
      "source": [
        "# Restringindo a América do Sul\n",
        "ax = world[world.continent == 'South America'].plot(\n",
        "    color='white', edgecolor='black')\n",
        "\n",
        "# Plotando ``GeoDataFrame``.\n",
        "gdf.plot(ax=ax, color='red')\n",
        "\n",
        "plt.rcParams['figure.figsize'] = (8,8)\n",
        "plt.show()"
      ],
      "execution_count": null,
      "outputs": [
        {
          "output_type": "display_data",
          "data": {
            "image/png": "[encoded data removed]",
            "text/plain": [
              "<Figure size 576x576 with 1 Axes>"
            ]
          },
          "metadata": {
            "tags": [],
            "needs_background": "light"
          }
        }
      ]
    }
  ]
}